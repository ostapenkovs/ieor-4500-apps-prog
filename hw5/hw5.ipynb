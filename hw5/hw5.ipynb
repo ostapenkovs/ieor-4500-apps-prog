{
 "cells": [
  {
   "cell_type": "code",
   "execution_count": 1,
   "metadata": {},
   "outputs": [],
   "source": [
    "# imports\n",
    "import numpy as np\n",
    "import pandas as pd"
   ]
  },
  {
   "cell_type": "code",
   "execution_count": 24,
   "metadata": {},
   "outputs": [],
   "source": [
    "# cleaning the data\n",
    "need_to_clean = True\n",
    "if need_to_clean:\n",
    "    fnames = ['closeWilshire500', 'closeRussell1000']\n",
    "    for fname in fnames:\n",
    "        # read in data\n",
    "        df = pd.read_csv(f'./data/{fname}.csv', index_col=0)\n",
    "        # drop columns with no data\n",
    "        df.dropna(axis=1, how='all', inplace=True)\n",
    "        # format column names\n",
    "        df.columns = [x.strip('.Close') for x in df.columns]\n",
    "        # write clean data\n",
    "        df.to_csv(f'./data/{fname}_clean.csv', index=False)\n",
    "        df = None"
   ]
  },
  {
   "cell_type": "code",
   "execution_count": null,
   "metadata": {},
   "outputs": [],
   "source": [
    "#"
   ]
  }
 ],
 "metadata": {
  "kernelspec": {
   "display_name": "myenv",
   "language": "python",
   "name": "python3"
  },
  "language_info": {
   "codemirror_mode": {
    "name": "ipython",
    "version": 3
   },
   "file_extension": ".py",
   "mimetype": "text/x-python",
   "name": "python",
   "nbconvert_exporter": "python",
   "pygments_lexer": "ipython3",
   "version": "3.10.11"
  }
 },
 "nbformat": 4,
 "nbformat_minor": 2
}
