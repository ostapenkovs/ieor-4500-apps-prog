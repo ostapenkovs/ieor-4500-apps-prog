{
 "cells": [
  {
   "cell_type": "code",
   "execution_count": 21,
   "metadata": {},
   "outputs": [],
   "source": [
    "import os\n",
    "from tqdm.notebook import tqdm\n",
    "import pandas as pd\n",
    "import warnings\n",
    "warnings.filterwarnings('ignore')"
   ]
  },
  {
   "cell_type": "code",
   "execution_count": 22,
   "metadata": {},
   "outputs": [
    {
     "data": {
      "application/vnd.jupyter.widget-view+json": {
       "model_id": "42a1009f611a43b48d90e74431e25b9f",
       "version_major": 2,
       "version_minor": 0
      },
      "text/plain": [
       "  0%|          | 0/8 [00:00<?, ?it/s]"
      ]
     },
     "metadata": {},
     "output_type": "display_data"
    },
    {
     "name": "stdout",
     "output_type": "stream",
     "text": [
      "Failed to parse 69 returns for UBS.\n",
      "Failed to parse 61 returns for AMZN.\n",
      "Failed to parse 59 returns for NVDA.\n",
      "Failed to parse 66 returns for ABR.\n",
      "Failed to parse 61 returns for GS.\n",
      "Failed to parse 59 returns for NIO.\n",
      "Failed to parse 58 returns for NFLX.\n",
      "Failed to parse 59 returns for TSLA.\n"
     ]
    }
   ],
   "source": [
    "files = os.listdir('./data/')\n",
    "dfs = list()\n",
    "\n",
    "for file in tqdm(files):\n",
    "    # processing file name\n",
    "    ticker, csv = file.split('.')\n",
    "    \n",
    "    # processing dates\n",
    "    df = pd.read_csv(f'./data/{file}', header=3, usecols=range(8))\n",
    "    df.dropna(subset='Dates', inplace=True)\n",
    "    df['Dates'] = pd.to_datetime(df.Dates)\n",
    "    df.set_index('Dates', inplace=True)\n",
    "\n",
    "    # bounds => starting with x=9.30 am and y=12.00pm on first date on record\n",
    "    x, ub = df.index.min(), df.index.max()\n",
    "    y = x + pd.DateOffset(hours=2, minutes=30)\n",
    "    day = pd.DateOffset(days=1)\n",
    "\n",
    "    returns = dict()\n",
    "    i = 0\n",
    "    # iterating over every single day\n",
    "    while x < ub and y < ub:\n",
    "        try:\n",
    "            open = df.loc[x, 'Open']    # open price at 9.30 am\n",
    "            close = df.loc[y, 'Close']  # closing price at 12.00 pm\n",
    "            returns[y] = close / open - 1\n",
    "        # sometimes we do not have a return on record for some date\n",
    "        except: i += 1 # i is a counter for failed parsing\n",
    "\n",
    "        # incrementing x and y datetimes by 1 day to move forward into the future\n",
    "        x, y = x + day, y + day\n",
    "\n",
    "    # we will print out how many days we failed to parse just for a sanity check\n",
    "    if i > 0: print(f'Failed to parse {i} returns for {ticker}.')\n",
    "\n",
    "    # save returns per ticker as defined in HW4\n",
    "    returns = pd.DataFrame.from_dict(returns, orient='index')\n",
    "    returns.columns = [ticker]\n",
    "    \n",
    "    dfs.append(returns)\n",
    "    df = returns = None\n",
    "\n",
    "dfs = pd.concat(dfs, axis=1).dropna(how='any')\n",
    "dfs.to_csv('./data/combined.csv', index=True)"
   ]
  }
 ],
 "metadata": {
  "kernelspec": {
   "display_name": "myenv",
   "language": "python",
   "name": "python3"
  },
  "language_info": {
   "codemirror_mode": {
    "name": "ipython",
    "version": 3
   },
   "file_extension": ".py",
   "mimetype": "text/x-python",
   "name": "python",
   "nbconvert_exporter": "python",
   "pygments_lexer": "ipython3",
   "version": "3.10.11"
  }
 },
 "nbformat": 4,
 "nbformat_minor": 2
}
