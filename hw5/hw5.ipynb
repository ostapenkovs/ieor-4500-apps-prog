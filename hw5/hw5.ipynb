{
 "cells": [
  {
   "cell_type": "code",
   "execution_count": 16,
   "metadata": {},
   "outputs": [],
   "source": [
    "# imports\n",
    "import numpy as np\n",
    "np.random.seed(1)\n",
    "\n",
    "import pandas as pd\n",
    "from tqdm.notebook import tqdm\n",
    "import time\n",
    "import pickle\n",
    "import matplotlib.pyplot as plt\n",
    "import seaborn as sns\n",
    "\n",
    "from util import gradient_descent"
   ]
  },
  {
   "cell_type": "markdown",
   "metadata": {},
   "source": [
    "# IEOR 4500. Project 5. Pairs trading\n",
    "\n",
    "In this project we address the basic elements of the pairs-trading strategy.\n",
    "\n",
    "## Notation:\n",
    "$p_i^t$ denotes the (closing) price of asset $i$ at time $t$.\n",
    "\n",
    "The basic premise is as follows. Suppose that we consider a pair $(i,j)$ of assets. When we invest $S_k$ on this pair, we do the following:\n",
    "\n",
    "- We take the position $S_k$ in asset $i$.\n",
    "- We take the position $-S_k$ in asset $j$.\n",
    "\n",
    "The worth of this position is judged as follows:\n",
    "\n",
    "- The number of shares in asset $i$ equals $k/p_i^t$.\n",
    "- The value of the position in asset $i$, at time $t+1$, equals $kp_i^{t+1}/p_i^t$.\n",
    "- The value of the position in asset $j$, at time $t+1$, equals $-kp_j^{t+1}/p_j^t$.\n",
    "\n",
    "Hence, if we close the pair position at time $t+1$, the value we accrue (gain or loss) equals\n",
    "$$kp_i^{t+1}/p_i^t - kp_j^{t+1}/p_j^t.$$\n",
    "\n",
    "Conceptually, you may have thought, throughout, that $k > 0$, i.e., we are longing $i$ and shorting $j$. However, make sure you understand that the formula is correct if $k < 0$, i.e., we short $i$ and long $j$.\n",
    "\n",
    "- Denote\n",
    "$$\\Delta_i^t = p_i^{t+1}/p_i^t - p_j^{t+1}/p_j^t,$$\n",
    "and\n",
    "$$\\bar{\\Delta}_{ij} = \\frac{1}{T} \\sum_{t=0}^{T-1} \\Delta_i^t.$$\n",
    "\n",
    "The optimization problem we want to solve is:\n",
    "\n",
    "Minimize\n",
    "$$-\\sum_{i<j} x_{ij}\\Delta_{ij} + \\theta \\left( \\frac{1}{T-1} \\sum_{t=0}^{T-1} (\\Delta_i^t - \\bar{\\Delta}_{ij})^2 \\right)$$\n",
    "(1a)\n",
    "\n",
    "Subject to\n",
    "$$-1 \\leq x_{ij} \\leq 1,$$\n",
    "for all pairs $i < j$.\n",
    "(1b)\n",
    "\n",
    "Here, $\\theta \\geq 0$ is a risk-tolerance parameter. Your code should work for values of $\\theta$ ranging from very small to large, e.g., $0 \\leq \\theta \\leq 10^6$.\n",
    "\n",
    "1. Implement a first-order method, using projected gradients, for this problem. Yes, you can also attempt to handle it using a solver, but I want to see the first-order implementation.\n",
    "\n",
    "2. You should test it using the daily data that I have uploaded; Wilshire 5000 and Russell 1000. Using the first data set you should be able to get at least 3000 names with more than 1000 valid data values that are date-aligned.\n"
   ]
  },
  {
   "cell_type": "code",
   "execution_count": 17,
   "metadata": {},
   "outputs": [],
   "source": [
    "# reading in data\n",
    "data_folder = './data'\n",
    "index_name = 'closeRussell1000'\n",
    "\n",
    "# stuff that is used as input to the gradient descent function\n",
    "stuff = dict()\n",
    "file_endings = ['delta', 'delta_bar', 'delta_centered']\n",
    "for end in file_endings:\n",
    "    with open(f'./data/{index_name}_{end}.pkl', 'rb') as f:\n",
    "        stuff[end] = pickle.load(f)\n",
    "\n",
    "n, p = stuff['delta'].shape\n",
    "\n",
    "with open(f'./data/{index_name}_pair_names.pkl', 'rb') as f:\n",
    "    pair_names = pickle.load(f)"
   ]
  },
  {
   "cell_type": "code",
   "execution_count": 18,
   "metadata": {},
   "outputs": [
    {
     "name": "stderr",
     "output_type": "stream",
     "text": [
      "Iterations: 100%|██████████| 1/1 [00:03<00:00,  3.46s/it]\n"
     ]
    }
   ],
   "source": [
    "# initial feasible guess\n",
    "x_0 = np.random.uniform(-1, 1, p)\n",
    "# utility function parameters\n",
    "theta, pi = 10, 2\n",
    "\n",
    "converged, x, hist = gradient_descent(\n",
    "        x_0=x_0,\n",
    "        theta=theta, pi=pi, alpha=1e-3, beta=0.9,\n",
    "        num_iter=1, batch_size=32, tolerance=1e-6,\n",
    "        **stuff\n",
    "    )"
   ]
  },
  {
   "cell_type": "code",
   "execution_count": 19,
   "metadata": {},
   "outputs": [
    {
     "data": {
      "text/plain": [
       "[<matplotlib.lines.Line2D at 0x17e0f47f0>]"
      ]
     },
     "execution_count": 19,
     "metadata": {},
     "output_type": "execute_result"
    },
    {
     "data": {
      "image/png": "[encoded data removed]",
      "text/plain": [
       "<Figure size 640x480 with 1 Axes>"
      ]
     },
     "metadata": {},
     "output_type": "display_data"
    }
   ],
   "source": [
    "# plotting history, should be going down\n",
    "plt.plot(hist)"
   ]
  },
  {
   "cell_type": "code",
   "execution_count": 20,
   "metadata": {},
   "outputs": [
    {
     "data": {
      "text/html": [
       "<div>\n",
       "<style scoped>\n",
       "    .dataframe tbody tr th:only-of-type {\n",
       "        vertical-align: middle;\n",
       "    }\n",
       "\n",
       "    .dataframe tbody tr th {\n",
       "        vertical-align: top;\n",
       "    }\n",
       "\n",
       "    .dataframe thead th {\n",
       "        text-align: right;\n",
       "    }\n",
       "</style>\n",
       "<table border=\"1\" class=\"dataframe\">\n",
       "  <thead>\n",
       "    <tr style=\"text-align: right;\">\n",
       "      <th></th>\n",
       "      <th>pair_names</th>\n",
       "      <th>position</th>\n",
       "    </tr>\n",
       "  </thead>\n",
       "  <tbody>\n",
       "    <tr>\n",
       "      <th>0</th>\n",
       "      <td>AOS-A</td>\n",
       "      <td>-0.165551</td>\n",
       "    </tr>\n",
       "    <tr>\n",
       "      <th>1</th>\n",
       "      <td>AAL-A</td>\n",
       "      <td>0.439574</td>\n",
       "    </tr>\n",
       "    <tr>\n",
       "      <th>2</th>\n",
       "      <td>AAP-A</td>\n",
       "      <td>-0.997333</td>\n",
       "    </tr>\n",
       "    <tr>\n",
       "      <th>3</th>\n",
       "      <td>AAPL-A</td>\n",
       "      <td>-0.394371</td>\n",
       "    </tr>\n",
       "    <tr>\n",
       "      <th>4</th>\n",
       "      <td>ABBV-A</td>\n",
       "      <td>-0.704765</td>\n",
       "    </tr>\n",
       "    <tr>\n",
       "      <th>...</th>\n",
       "      <td>...</td>\n",
       "      <td>...</td>\n",
       "    </tr>\n",
       "    <tr>\n",
       "      <th>459356</th>\n",
       "      <td>ZNGA-ZG</td>\n",
       "      <td>-0.970806</td>\n",
       "    </tr>\n",
       "    <tr>\n",
       "      <th>459357</th>\n",
       "      <td>ZTS-ZG</td>\n",
       "      <td>-0.219281</td>\n",
       "    </tr>\n",
       "    <tr>\n",
       "      <th>459358</th>\n",
       "      <td>ZNGA-ZION</td>\n",
       "      <td>0.959149</td>\n",
       "    </tr>\n",
       "    <tr>\n",
       "      <th>459359</th>\n",
       "      <td>ZTS-ZION</td>\n",
       "      <td>-0.397688</td>\n",
       "    </tr>\n",
       "    <tr>\n",
       "      <th>459360</th>\n",
       "      <td>ZTS-ZNGA</td>\n",
       "      <td>-0.659463</td>\n",
       "    </tr>\n",
       "  </tbody>\n",
       "</table>\n",
       "<p>459361 rows × 2 columns</p>\n",
       "</div>"
      ],
      "text/plain": [
       "       pair_names  position\n",
       "0           AOS-A -0.165551\n",
       "1           AAL-A  0.439574\n",
       "2           AAP-A -0.997333\n",
       "3          AAPL-A -0.394371\n",
       "4          ABBV-A -0.704765\n",
       "...           ...       ...\n",
       "459356    ZNGA-ZG -0.970806\n",
       "459357     ZTS-ZG -0.219281\n",
       "459358  ZNGA-ZION  0.959149\n",
       "459359   ZTS-ZION -0.397688\n",
       "459360   ZTS-ZNGA -0.659463\n",
       "\n",
       "[459361 rows x 2 columns]"
      ]
     },
     "execution_count": 20,
     "metadata": {},
     "output_type": "execute_result"
    }
   ],
   "source": [
    "# looking at resulting positions\n",
    "pd.DataFrame({'pair_names': pair_names, 'position': x})"
   ]
  }
 ],
 "metadata": {
  "kernelspec": {
   "display_name": "myenv",
   "language": "python",
   "name": "python3"
  },
  "language_info": {
   "codemirror_mode": {
    "name": "ipython",
    "version": 3
   },
   "file_extension": ".py",
   "mimetype": "text/x-python",
   "name": "python",
   "nbconvert_exporter": "python",
   "pygments_lexer": "ipython3",
   "version": "3.10.11"
  }
 },
 "nbformat": 4,
 "nbformat_minor": 2
}
