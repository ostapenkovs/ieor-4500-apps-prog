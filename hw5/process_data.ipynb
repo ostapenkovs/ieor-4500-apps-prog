{
 "cells": [
  {
   "cell_type": "code",
   "execution_count": 2,
   "metadata": {},
   "outputs": [],
   "source": [
    "# imports\n",
    "import numpy as np\n",
    "import pandas as pd\n",
    "import pickle\n",
    "import time"
   ]
  },
  {
   "cell_type": "code",
   "execution_count": 3,
   "metadata": {},
   "outputs": [],
   "source": [
    "# initial data clean to get rid of na values\n",
    "do_this = False\n",
    "if do_this:\n",
    "    fnames = ['closeRussell1000', 'closeWilshire5000']\n",
    "\n",
    "    for fname in fnames:\n",
    "        # read in data\n",
    "        df = pd.read_csv(f'./data/{fname}.csv', index_col=0)\n",
    "        # drop columns with no data\n",
    "        df.dropna(axis=1, how='all', inplace=True)\n",
    "        # format column names\n",
    "        df.columns = [x.strip('.Close') for x in df.columns]\n",
    "        # write clean data\n",
    "        df.to_csv(f'./data/{fname}_clean.csv', index=False)\n",
    "        df = None"
   ]
  },
  {
   "cell_type": "code",
   "execution_count": 4,
   "metadata": {},
   "outputs": [
    {
     "name": "stdout",
     "output_type": "stream",
     "text": [
      "Made the delta and delta_bar arrays for closeRussell1000. Shapes (2769, 459361) and (459361,).\n",
      "Took 8.0408 secs.\n",
      "Wrote delta.pkl for closeRussell1000.\n",
      "Took 64.1727 secs.\n",
      "Wrote delta_bar.pkl for closeRussell1000.\n",
      "Took 0.0216 secs.\n",
      "Wrote pair_names.pkl for closeRussell1000.\n",
      "Took 0.2139 secs.\n"
     ]
    }
   ],
   "source": [
    "# data processing to compute the delta array. trying with only Russell 1000 for now\n",
    "fnames = ['closeRussell1000']\n",
    "\n",
    "for fname in fnames:\n",
    "    start = time.time()\n",
    "\n",
    "    df = pd.read_csv(f'./data/{fname}_clean.csv')\n",
    "    n, p = df.shape\n",
    "\n",
    "    # compute returns from close prices\n",
    "    df = df.pct_change()\n",
    "\n",
    "    # predefine empty delta array\n",
    "    d = p * (p-1) // 2\n",
    "    delta = np.zeros((n, d))\n",
    "    delta_bar = np.zeros(d)\n",
    "\n",
    "    # filling up delta array according to definition\n",
    "    k = 0\n",
    "    pair_names = list()\n",
    "\n",
    "    for i in range(p-1):\n",
    "        col = df.iloc[:, i]\n",
    "        subset = df.iloc[:, i+1:]\n",
    "\n",
    "        new_pairs = [col.name + '+' + sub_col for sub_col in subset.columns]\n",
    "        num_new_pairs = len(new_pairs)\n",
    "        pair_names += new_pairs\n",
    "\n",
    "        diff = subset.sub(col, axis=0).values\n",
    "        delta[:, k: k+num_new_pairs] = diff\n",
    "        delta_bar[k: k+num_new_pairs] = np.nanmean(diff, axis=0)\n",
    "        k += num_new_pairs\n",
    "\n",
    "        col = subset = new_pairs = diff = None\n",
    "\n",
    "    df = None\n",
    "    print(f'Made the delta and delta_bar arrays for {fname}. Shapes {delta.shape} and {delta_bar.shape}.')\n",
    "    print(f'Took {round(time.time() - start, 4)} secs.')\n",
    "    \n",
    "    # export everything\n",
    "    start = time.time()\n",
    "    with open(f'./data/{fname}_delta.pkl', 'wb') as f:\n",
    "        pickle.dump(delta, f)\n",
    "    print(f'Wrote delta.pkl for {fname}.')\n",
    "    print(f'Took {round(time.time() - start, 4)} secs.')\n",
    "    \n",
    "    start = time.time()\n",
    "    with open(f'./data/{fname}_delta_bar.pkl', 'wb') as f:\n",
    "        pickle.dump(delta_bar, f)\n",
    "    print(f'Wrote delta_bar.pkl for {fname}.')\n",
    "    print(f'Took {round(time.time() - start, 4)} secs.')\n",
    "    \n",
    "    start = time.time()\n",
    "    with open(f'./data/{fname}_pair_names.pkl', 'wb') as f:\n",
    "        pickle.dump(pair_names, f)\n",
    "    print(f'Wrote pair_names.pkl for {fname}.')\n",
    "    print(f'Took {round(time.time() - start, 4)} secs.')\n",
    "    \n",
    "    delta = delta_bar = pair_names = None"
   ]
  },
  {
   "cell_type": "code",
   "execution_count": 5,
   "metadata": {},
   "outputs": [],
   "source": [
    "# example if we want to make r_diff in the future: r_diff = train.subtract(r_bar).values"
   ]
  }
 ],
 "metadata": {
  "kernelspec": {
   "display_name": "myenv",
   "language": "python",
   "name": "python3"
  },
  "language_info": {
   "codemirror_mode": {
    "name": "ipython",
    "version": 3
   },
   "file_extension": ".py",
   "mimetype": "text/x-python",
   "name": "python",
   "nbconvert_exporter": "python",
   "pygments_lexer": "ipython3",
   "version": "3.10.11"
  }
 },
 "nbformat": 4,
 "nbformat_minor": 2
}
