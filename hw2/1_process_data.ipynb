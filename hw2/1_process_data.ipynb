{
 "cells": [
  {
   "cell_type": "code",
   "execution_count": 1,
   "metadata": {},
   "outputs": [],
   "source": [
    "# imports\n",
    "from tqdm.notebook import tqdm\n",
    "\n",
    "import os\n",
    "data_dir = './data'\n",
    "if not os.path.exists(data_dir): os.makedirs(data_dir)\n",
    "\n",
    "import pandas as pd\n",
    "\n",
    "import warnings\n",
    "warnings.filterwarnings('ignore')"
   ]
  },
  {
   "cell_type": "code",
   "execution_count": 2,
   "metadata": {},
   "outputs": [
    {
     "data": {
      "application/vnd.jupyter.widget-view+json": {
       "model_id": "f7dc75c94b7a4ec29e54d820e07c5f96",
       "version_major": 2,
       "version_minor": 0
      },
      "text/plain": [
       "  0%|          | 0/3 [00:00<?, ?it/s]"
      ]
     },
     "metadata": {},
     "output_type": "display_data"
    },
    {
     "name": "stdout",
     "output_type": "stream",
     "text": [
      "Failed to parse 61 returns for AMZN.\n",
      "Failed to parse 58 returns for NFLX.\n",
      "Failed to parse 59 returns for TSLA.\n"
     ]
    }
   ],
   "source": [
    "start = {'AMZN': '1/4/21', 'NFLX': '2/1/21', 'TSLA': '1/4/21'}\n",
    "\n",
    "for ticker in tqdm(['AMZN', 'NFLX', 'TSLA'], leave=True):\n",
    "    # read in trade (not bid or ask) data\n",
    "    df = pd.read_csv(f'./data/{ticker}.csv', header=3, usecols=range(8))\n",
    "    # drop NAs caused by bid and/or ask data\n",
    "    df.dropna(subset='Dates', inplace=True)\n",
    "    # fix first row with invalid date\n",
    "    df.loc[0, 'Dates'] = start[ ticker ] + ' 9:30'\n",
    "    # Dates col to datetime\n",
    "    df['Dates'] = pd.to_datetime(df.Dates)\n",
    "    df.set_index('Dates', inplace=True)\n",
    "\n",
    "    # bounds => starting with x=9.30 am and y=12.00pm on first date on record\n",
    "    x, ub = df.index.min(), df.index.max()\n",
    "    y = x + pd.DateOffset(hours=2, minutes=30)\n",
    "    day = pd.DateOffset(days=1)\n",
    "\n",
    "    returns = dict()\n",
    "    i = 0\n",
    "    # iterating over every single day\n",
    "    while x < ub and y < ub:\n",
    "        try:\n",
    "            open = df.loc[x, 'Open']    # open price at 9.30 am\n",
    "            close = df.loc[y, 'Close']  # closing price at 12.00 pm\n",
    "            returns[y] = close / open - 1\n",
    "        # sometimes we do not have a return on record for some date\n",
    "        except: i += 1 # i is a counter for failed parsing\n",
    "\n",
    "        # incrementing x and y datetimes by 1 day to move forward into the future\n",
    "        x, y = x + day, y + day\n",
    "\n",
    "    # we will print out how many days we failed to parse just for a sanity check\n",
    "    if i > 0: print(f'Failed to parse {i} returns for {ticker}.')\n",
    "\n",
    "    # save returns per ticker as defined in HW2\n",
    "    returns = pd.DataFrame.from_dict(returns, orient='index')\n",
    "    returns.columns = [ticker]\n",
    "    returns.to_csv(f'./data/{ticker}_processed.csv')"
   ]
  }
 ],
 "metadata": {
  "kernelspec": {
   "display_name": "myenv",
   "language": "python",
   "name": "python3"
  },
  "language_info": {
   "codemirror_mode": {
    "name": "ipython",
    "version": 3
   },
   "file_extension": ".py",
   "mimetype": "text/x-python",
   "name": "python",
   "nbconvert_exporter": "python",
   "pygments_lexer": "ipython3",
   "version": "3.10.11"
  }
 },
 "nbformat": 4,
 "nbformat_minor": 2
}
