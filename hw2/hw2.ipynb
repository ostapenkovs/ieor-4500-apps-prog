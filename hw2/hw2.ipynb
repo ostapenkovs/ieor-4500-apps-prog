{
 "cells": [
  {
   "cell_type": "markdown",
   "metadata": {},
   "source": [
    "# <span style='color:red'>Project 2.  Due October 23</span>"
   ]
  },
  {
   "cell_type": "markdown",
   "metadata": {},
   "source": [
    "### In this project we develop a first-order algorithm to construct a portfolio using intraday data."
   ]
  },
  {
   "cell_type": "code",
   "execution_count": 1,
   "metadata": {},
   "outputs": [],
   "source": [
    "import numpy as np\n",
    "import pandas as pd\n",
    "import matplotlib.pyplot as plt\n",
    "import seaborn as sns\n",
    "from scipy import optimize"
   ]
  },
  {
   "cell_type": "markdown",
   "metadata": {},
   "source": [
    "##### We will have data involving $n$ assets, and use the first $T$ days of the data to compute the portfolio.\n",
    "##### The computation will produce a weight $x_i$ for each asset $i = 1,...,n$, which could be long or short.\n",
    "##### We assume that on each day, a position is taken at the open, and closed at noon.  So we define:\n",
    "$$ p^o_{j,t} = \\ \\text{price of asset $j$ on day $t$ at the open}$$\n",
    "$$ p^1_{j,t} = \\ \\text{price of asset $j$ on day $t$ at noon}$$\n",
    "$$ r_{j,t} =  \\ \\frac{p^1_{j,t} - p^o_{j,t}}{p^o_{j,t}} = \\ \\text{return earned by asset $j$ on day $t$.}$$\n",
    "$$ \\bar r_j = \\ \\frac{1}{T} \\sum_{t = 1}^T r_{j,t} = \\ \\text{average return earned by asset $j$.}$$"
   ]
  },
  {
   "cell_type": "markdown",
   "metadata": {},
   "source": [
    "#### The optimization problem to solve depends on two parameters: $\\theta \\ge 0$ and $\\pi > 0 0$.\n",
    "####\n",
    "$$ \\text{minimize} \\ \\left(-\\sum_{j = 1}^n \\bar r_j x_j\\right) \\ + \\ \\theta \\left( \\frac{1}{T} \\sum_{t = 1}^{T}\\left[\\sum_{j = 1}^n (r_{j,t} -  \\bar r_j)x_j\\right]^\\pi\\right)^{1/\\pi}$$\n",
    "#### \n",
    "#### There are no constraints on the quantities $x_j$.\n",
    "#### The first sum is minus the average return earned by the portfolio.  In the second sum, the quantity inside the square brackets is the excess return earned by the portfolio on day $t$, magnified by the power $\\pi$.  The quantity $\\theta$ is a risk aversion parameter.\n",
    " "
   ]
  },
  {
   "cell_type": "markdown",
   "metadata": {},
   "source": [
    "### <span style='color:red'> Task 1. Develop a first-order method to address this computational problem.</span>\n",
    "#### \n",
    "#### Your method should work with values of $T$ at least $100$. Use the data we provide for AMZN, NFLX, TSLA, i.e., $n = 3$. \n",
    "###\n",
    "#### Make sure your code works with $\\pi = 0.5, 2, 4, 6$, and $\\theta = 0.1, 10, 1000, 10^5, 10^6$."
   ]
  },
  {
   "cell_type": "markdown",
   "metadata": {},
   "source": [
    "Denote the objective function as  $F(x)$. We will take the gradient of $ F(x) $ with respect to the vector $ x $. The gradient will be a vector of partial derivatives, where each element $ k $ is the partial derivative of $ F(x) $ with respect to $ x_k $.\n",
    "\n",
    "$$ F(x) = \\left(-\\sum_{j = 1}^n \\bar r_j x_j\\right) + \\theta \\left( \\frac{1}{T} \\sum_{t = 1}^{T}\\left[\\sum_{j = 1}^n (r_{j,t} -  \\bar r_j)x_j\\right]^\\pi\\right)^{1/\\pi} $$\n",
    "\n",
    "Let's take the derivative piece by piece.\n",
    "\n",
    "1. **Derivative of the first term (g)**:\n",
    "$$ \\frac{dg}{dx_k} \\left(-\\sum_{j = 1}^n \\bar r_j x_j\\right) = -\\bar r_k $$\n",
    "\n",
    "2. **Derivative of the second term (h)**:\n",
    "$$ \\frac{dh}{dx_k} = \\theta \\cdot \\frac{1}{\\pi} \\left[\\frac{1}{T} \\sum_{t = 1}^{T}\\left[\\sum_{j = 1}^n (r_{j,t} -  \\bar r_j)x_j\\right]^\\pi\\right]^{(1/\\pi)-1} \\cdot \\frac{1}{T} \\sum_{t = 1}^{T} \\pi \\left[\\sum_{j = 1}^n (r_{j,t} -  \\bar r_j)x_j\\right]^{\\pi-1} \\cdot (r_{k,t} -  \\bar r_k) $$\n",
    "\n",
    "3. **Sum and simplification of the derivatives**:\n",
    "\n",
    "$$ \\frac{\\partial F(x)}{\\partial x_k} = -\\bar r_k + \\theta \\cdot \\left[\\frac{1}{T} \\sum_{t = 1}^{T}\\left[\\sum_{j = 1}^n (r_{j,t} -  \\bar r_j)x_j\\right]^\\pi\\right]^{(1/\\pi)-1} \\cdot \\frac{1}{T} \\sum_{t = 1}^{T} \\left[\\sum_{j = 1}^n (r_{j,t} -  \\bar r_j)x_j\\right]^{\\pi-1} \\cdot (r_{k,t} -  \\bar r_k) $$"
   ]
  },
  {
   "cell_type": "code",
   "execution_count": 93,
   "metadata": {},
   "outputs": [],
   "source": [
    "def func(x, r_bar, r_diff, theta, pi, T):\n",
    "    return -np.dot(r_bar, x) + (theta*(1/T)**(1/pi)) * ( np.linalg.norm(r_diff @ x, pi) )\n",
    "\n",
    "def grad(x, r_bar, r_diff, theta, pi, T):\n",
    "    r_diff_at_x = r_diff @ x\n",
    "    temp = (theta*(1/T)**(1/pi - 1)) * np.linalg.norm(r_diff_at_x, pi)**(1-pi) * (1/T)*( (r_diff_at_x**(pi-1)).T @ r_diff )\n",
    "    return -r_bar + temp"
   ]
  },
  {
   "cell_type": "code",
   "execution_count": 69,
   "metadata": {},
   "outputs": [],
   "source": [
    "# print('VECTORZ:')\n",
    "# print( optimize.minimize(fun=func, x0=np.array([0,0,0]), args=(r_bar, r_diff, 1e1, 10, 100), method='SLSQP') )\n",
    "\n",
    "# # print('GUIDO:')\n",
    "# # print( optimize.minimize(fun=objective_function, x0=np.array([0,0,0]), args=(train.values, r_bar, 1e1, 10, 100), method='SLSQP') )"
   ]
  },
  {
   "cell_type": "code",
   "execution_count": 26,
   "metadata": {},
   "outputs": [],
   "source": [
    "# def compute_gradient(x, r, r_bar, theta, pi, T):\n",
    "#     n = len(x)\n",
    "#     gradient = np.zeros(n)\n",
    "    \n",
    "#     # Compute u\n",
    "#     u = (1/T) * np.sum([(np.sum([(r[t, j] - r_bar[j]) * x[j] for j in range(n)]))**pi for t in range(T)])\n",
    "    \n",
    "#     for k in range(n):\n",
    "#         term1 = -r_bar[k]\n",
    "#         term2 = theta * (1/pi) * u**((1/pi)-1) * (1/T) * np.sum([pi * (np.sum([(r[t, j] - r_bar[j]) * x[j] for j in range(n)]))**(pi-1) * (r[t, k] - r_bar[k]) for t in range(T)])\n",
    "#         gradient[k] = term1 + term2\n",
    "        \n",
    "#     return gradient"
   ]
  },
  {
   "cell_type": "code",
   "execution_count": 94,
   "metadata": {},
   "outputs": [],
   "source": [
    "df = list()\n",
    "for ticker in ['AMZN', 'NFLX', 'TSLA']:\n",
    "    df.append( pd.read_csv(f'./data/{ticker}_processed.csv', index_col=0) )\n",
    "\n",
    "df = pd.concat(df, axis=1).dropna(how='any')\n",
    "\n",
    "train = df[:100]\n",
    "test = df[100:]\n",
    "\n",
    "r_bar = train.mean(axis=0).values\n",
    "r_diff = train.subtract(r_bar).values"
   ]
  },
  {
   "cell_type": "code",
   "execution_count": 58,
   "metadata": {},
   "outputs": [],
   "source": [
    "# def objective_function(x, r, r_bar, theta, pi, T):\n",
    "        \n",
    "#     # Compute the first term\n",
    "#     term1 = -np.sum(r_bar * x)\n",
    "    \n",
    "#     # Compute the inner sum for the second term\n",
    "#     inner_sum = np.array([(np.sum((r[t, :] - r_bar) * x))**pi for t in range(T)])\n",
    "    \n",
    "#     # Compute the second term\n",
    "#     term2 = theta * ((1/T) * np.sum(inner_sum))**(1/pi)\n",
    "    \n",
    "#     # Compute the value of F(x)\n",
    "#     F_x = term1 + term2\n",
    "    \n",
    "#     return F_x\n",
    "\n",
    "# def compute_gradient(x, r, r_bar, theta, pi, T):\n",
    "#     n = len(x)\n",
    "#     gradient = np.zeros(n)\n",
    "    \n",
    "#     # Compute u\n",
    "#     u = (1/T) * np.sum([(np.sum([(r[t, j] - r_bar[j]) * x[j] for j in range(n)]))**pi for t in range(T)])\n",
    "    \n",
    "#     for k in range(n):\n",
    "#         term1 = -r_bar[k]\n",
    "#         term2 = theta * (1/pi) * u**((1/pi)-1) * (1/T) * np.sum([pi * (np.sum([(r[t, j] - r_bar[j]) * x[j] for j in range(n)]))**(pi-1) * (r[t, k] - r_bar[k]) for t in range(T)])\n",
    "#         gradient[k] = term1 + term2\n",
    "        \n",
    "#     return gradient\n",
    "\n",
    "# def guido_gradient(r, r_bar, initial_x, alpha, theta, pi, T, max_iterations=1000, tolerance=1e-6):\n",
    "#     x = initial_x\n",
    "#     hist = dict()\n",
    "#     converged = False\n",
    "#     for k in range(max_iterations):\n",
    "#         gradient = compute_gradient(x, r, r_bar, theta, pi, T)\n",
    "#         hist[k] = objective_function(x, r, r_bar, theta, pi, T)\n",
    "#         # Update rule\n",
    "#         x_new = x - alpha * gradient\n",
    "        \n",
    "#         cos_beta = np.dot(x, x_new) / (np.linalg.norm(x) * np.linalg.norm(x_new)) # beta is angle between x and x_new\n",
    "#         if np.abs( cos_beta - 1 ) < tolerance:\n",
    "#         # if np.linalg.norm(x_new - x) < tolerance:\n",
    "#             converged = True\n",
    "#             break\n",
    "        \n",
    "#         x = x_new\n",
    "        \n",
    "#     return converged, x, hist"
   ]
  },
  {
   "cell_type": "code",
   "execution_count": 98,
   "metadata": {},
   "outputs": [],
   "source": [
    "def gradient_descent(r_bar, r_diff, theta, pi, x_0, alpha, beta, max_iter=1000, tolerance=1e-8):\n",
    "    converged = False\n",
    "    T = r_diff.shape[0]\n",
    "    x = y = x_0\n",
    "    f = func(x=x, r_bar=r_bar, r_diff=r_diff, theta=theta, pi=pi, T=T)\n",
    "    hist = {0: f}\n",
    "    for t in range(max_iter):\n",
    "        grad_ = grad(x=x, r_bar=r_bar, r_diff=r_diff, theta=theta, pi=pi, T=T)\n",
    "        grad_ /= np.linalg.norm(grad_)\n",
    "\n",
    "        # update rule\n",
    "        # y_new = x - alpha * grad_        \n",
    "        # x_new = y_new + beta*(y_new - y)\n",
    "        y = beta*y + (1-beta)*grad_\n",
    "        x = x - alpha*y\n",
    "\n",
    "        # convergence check\n",
    "        # x_new /= np.linalg.norm(x_new)\n",
    "        # cos_beta = np.dot(x, x_new) / (np.linalg.norm(x) * np.linalg.norm(x_new)) # beta is angle between x and x_new\n",
    "        # if np.abs( cos_beta - 1 ) < tolerance and \n",
    "        # if np.linalg.norm(x - x_new) < tolerance:\n",
    "        f_new = func(x=x, r_bar=r_bar, r_diff=r_diff, theta=theta, pi=pi, T=T)\n",
    "        hist[t+1] = f_new\n",
    "        if f - f_new < tolerance:\n",
    "            converged = True\n",
    "            break\n",
    "        \n",
    "        f = f_new\n",
    "        \n",
    "    return converged, x, hist"
   ]
  },
  {
   "cell_type": "code",
   "execution_count": 10,
   "metadata": {},
   "outputs": [],
   "source": [
    "# # import pandas as pd\n",
    "# # import numpy as np\n",
    "# # from tqdm import tqdm\n",
    "\n",
    "# # Load processed returns\n",
    "# tickers = ['AMZN', 'NFLX', 'TSLA']\n",
    "\n",
    "# # Load processed returns as DataFrames\n",
    "# returns_df = {}\n",
    "# for ticker in tickers:\n",
    "#     returns_df[ticker] = pd.read_csv(f'./data/{ticker}_processed.csv', index_col=0)\n",
    "\n",
    "# # Find the common dates where all tickers have returns\n",
    "# common_dates = set(returns_df[tickers[0]].index)\n",
    "# for ticker in tickers[1:]:\n",
    "#     common_dates.intersection_update(set(returns_df[ticker].index))\n",
    "\n",
    "# # Filter the returns for each ticker based on the common dates\n",
    "# for ticker in tickers:\n",
    "#     returns_df[ticker] = returns_df[ticker].loc[common_dates]\n",
    "\n",
    "# # Convert filtered returns to matrix form\n",
    "# r = np.column_stack([returns_df[ticker]['Returns'].values for ticker in tickers])"
   ]
  },
  {
   "cell_type": "code",
   "execution_count": null,
   "metadata": {},
   "outputs": [],
   "source": [
    "# # Run Gradient Descent for each combination of pi and theta\n",
    "# results = {}\n",
    "# for pi in pis:\n",
    "#     for theta in thetas:\n",
    "#         x_optimal = gradient_descent(train, r_bar, initial_x, alpha, theta, pi, train.shape[0])\n",
    "#         results[(pi, theta)] = x_optimal\n",
    "\n",
    "#print(results)"
   ]
  },
  {
   "cell_type": "code",
   "execution_count": 29,
   "metadata": {},
   "outputs": [],
   "source": [
    "# np.random.seed(1)\n",
    "# x_0 = np.random.uniform(-100, 100, 3)\n",
    "# # x_0 = np.ones(3)\n",
    "# x_0 /= np.linalg.norm(x_0)"
   ]
  },
  {
   "cell_type": "code",
   "execution_count": 6,
   "metadata": {},
   "outputs": [],
   "source": [
    "# # # Compute average returns\n",
    "# # r_bar = np.mean(r_train, axis=0)\n",
    "# from tqdm.notebook import tqdm\n",
    "# # Gradient Descent parameters\n",
    "# alpha = 1e-1  # step size, might need adjustment\n",
    "# pis = [0.5, 2, 4, 6]\n",
    "# thetas = [0.1, 10, 1000, 10**5, 10**6]\n",
    "\n",
    "# container = list()\n",
    "# pbar = tqdm(len(pis)*len(thetas), leave=True)\n",
    "# for pi in pis:\n",
    "#     for theta in thetas:\n",
    "#         converged, x, hist = gradient_descent(r_bar, r_diff, theta=theta, pi=pi, x_0=x_0, alpha=alpha, max_iter=1000, tolerance=1e-6)\n",
    "#         container.append((pi, theta, converged, x, hist))\n",
    "#         pbar.update()\n",
    "# pbar.close()"
   ]
  },
  {
   "cell_type": "code",
   "execution_count": 138,
   "metadata": {},
   "outputs": [
    {
     "name": "stdout",
     "output_type": "stream",
     "text": [
      "0.0008734542075995079\n",
      "[-0.05176295  0.08413733 -0.00448451]\n"
     ]
    },
    {
     "data": {
      "image/png": "[encoded data removed]",
      "text/plain": [
       "<Figure size 1200x400 with 1 Axes>"
      ]
     },
     "metadata": {},
     "output_type": "display_data"
    }
   ],
   "source": [
    "fig, ax = plt.subplots(1, 1, figsize=(12, 4))\n",
    "\n",
    "x_0 = np.array([69]*3)\n",
    "# i = 18\n",
    "# hist = container[i][-1]\n",
    "# pi, theta = container[i][0], container[i][1]\n",
    "pi = 2\n",
    "theta = 1\n",
    "alpha = 1e-1\n",
    "beta = 0.9\n",
    "# converged, x, hist = guido_gradient(train.values, r_bar, x_0, alpha, theta, pi, T=train.shape[0], max_iterations=1000, tolerance=1e-6)\n",
    "converged, x, hist = gradient_descent(r_bar, r_diff, theta, pi, x_0, alpha, beta, max_iter=int(10000), tolerance=1e-10)\n",
    "print(list(hist.values())[-1])\n",
    "print(x)\n",
    "sns.lineplot(x=list(hist.keys()), y=list(hist.values()), ax=ax)\n",
    "plt.title(f'CONVERGED: {converged}, PI: {pi}, THETA: {theta}')\n",
    "\n",
    "plt.show()"
   ]
  },
  {
   "cell_type": "markdown",
   "metadata": {},
   "source": [
    "### <span style='color:red'>Task 2: Benchmark your portfolio on the remaining days</span>\n",
    "#### On each of the remaining days, we proceed as follows.  Denote by $x^*$ your portfolio. At the market open we invest $10^9 x^*_j$ on each asset $j$, and we close the position (by) noon.  You need to use the asset's price to compute the number of shares that you invest in, whether long or short. So the total you invest equals $$ \\sum_{j = 1}^n 10^9 |x^*_j|.$$\n",
    "#### Report the average return earned by your portfolio."
   ]
  },
  {
   "cell_type": "code",
   "execution_count": 147,
   "metadata": {},
   "outputs": [
    {
     "data": {
      "text/plain": [
       "-0.00014828105909692657"
      ]
     },
     "execution_count": 147,
     "metadata": {},
     "output_type": "execute_result"
    }
   ],
   "source": [
    "(test@x).mean()"
   ]
  },
  {
   "cell_type": "code",
   "execution_count": 148,
   "metadata": {},
   "outputs": [],
   "source": [
    "# # Assuming x_star is the optimal portfolio obtained from the Gradient Descent\n",
    "# chosen_pi = 2\n",
    "# chosen_theta = 100000\n",
    "# x_star = results[(chosen_pi, chosen_theta)]  # replace chosen_pi and chosen_theta with the values you used\n",
    "\n",
    "\n",
    "\n",
    "# # Compute the total investment and returns for each day\n",
    "# total_investments = []\n",
    "# total_returns = []\n",
    "# for t in range(len(remaining_data[tickers[0]])):\n",
    "#     daily_investment = 0\n",
    "#     daily_return = 0\n",
    "#     for j, ticker in enumerate(tickers):\n",
    "#         open_price = remaining_data[ticker].iloc[t]['Open']\n",
    "#         noon_price = remaining_data[ticker].iloc[t]['Close']\n",
    "        \n",
    "#         # Number of shares for asset j\n",
    "#         shares = (10**9 * x_star[j]) / open_price\n",
    "        \n",
    "#         # Total investment for asset j\n",
    "#         daily_investment += abs(10**9 * x_star[j])\n",
    "        \n",
    "#         # Return for asset j\n",
    "#         asset_return = (noon_price - open_price) * shares\n",
    "#         daily_return += asset_return\n",
    "        \n",
    "#     total_investments.append(daily_investment)\n",
    "#     total_returns.append(daily_return)\n",
    "\n",
    "# # Compute the average return\n",
    "# average_return = np.mean(total_returns) / np.mean(total_investments)\n",
    "\n",
    "# print(f\"Average return earned by the portfolio: {average_return:.2%}\")\n"
   ]
  },
  {
   "cell_type": "code",
   "execution_count": 8,
   "metadata": {},
   "outputs": [
    {
     "ename": "NameError",
     "evalue": "name 'T' is not defined",
     "output_type": "error",
     "traceback": [
      "\u001b[1;31m---------------------------------------------------------------------------\u001b[0m",
      "\u001b[1;31mNameError\u001b[0m                                 Traceback (most recent call last)",
      "\u001b[1;32mc:\\Users\\Guido De Filippo\\Documents\\ieor-4500-apps-prog\\hw2\\hw2.ipynb Cell 14\u001b[0m line \u001b[0;36m1\n\u001b[0;32m     <a href='vscode-notebook-cell:/c%3A/Users/Guido%20De%20Filippo/Documents/ieor-4500-apps-prog/hw2/hw2.ipynb#X12sZmlsZQ%3D%3D?line=9'>10</a>\u001b[0m     \u001b[39mreturn\u001b[39;00m np\u001b[39m.\u001b[39mmean(daily_returns)\n\u001b[0;32m     <a href='vscode-notebook-cell:/c%3A/Users/Guido%20De%20Filippo/Documents/ieor-4500-apps-prog/hw2/hw2.ipynb#X12sZmlsZQ%3D%3D?line=11'>12</a>\u001b[0m \u001b[39m# Split the data into training and testing sets\u001b[39;00m\n\u001b[1;32m---> <a href='vscode-notebook-cell:/c%3A/Users/Guido%20De%20Filippo/Documents/ieor-4500-apps-prog/hw2/hw2.ipynb#X12sZmlsZQ%3D%3D?line=12'>13</a>\u001b[0m T_train \u001b[39m=\u001b[39m T  \u001b[39m# Number of training days\u001b[39;00m\n\u001b[0;32m     <a href='vscode-notebook-cell:/c%3A/Users/Guido%20De%20Filippo/Documents/ieor-4500-apps-prog/hw2/hw2.ipynb#X12sZmlsZQ%3D%3D?line=13'>14</a>\u001b[0m po_train \u001b[39m=\u001b[39m po[:T_train]  \u001b[39m# Prices at open for training days\u001b[39;00m\n\u001b[0;32m     <a href='vscode-notebook-cell:/c%3A/Users/Guido%20De%20Filippo/Documents/ieor-4500-apps-prog/hw2/hw2.ipynb#X12sZmlsZQ%3D%3D?line=14'>15</a>\u001b[0m p1_train \u001b[39m=\u001b[39m p1[:T_train]  \u001b[39m# Prices at noon for training days\u001b[39;00m\n",
      "\u001b[1;31mNameError\u001b[0m: name 'T' is not defined"
     ]
    }
   ],
   "source": [
    "def compute_portfolio_return(x_star, r, po, p1):\n",
    "    n = len(x_star)\n",
    "    daily_returns = []\n",
    "    \n",
    "    for t in range(len(r)):\n",
    "        shares = [10**9 * x_star[j] / po[t, j] for j in range(n)]\n",
    "        daily_return = sum([shares[j] * (p1[t, j] - po[t, j]) for j in range(n)])\n",
    "        daily_returns.append(daily_return)\n",
    "    \n",
    "    return np.mean(daily_returns)\n",
    "\n",
    "# Split the data into training and testing sets\n",
    "T_train = T  # Number of training days\n",
    "po_train = po[:T_train]  # Prices at open for training days\n",
    "p1_train = p1[:T_train]  # Prices at noon for training days\n",
    "\n",
    "po_test = po[T_train:]  # Prices at open for testing days\n",
    "p1_test = p1[T_train:]  # Prices at noon for testing days\n",
    "\n",
    "# Compute the average return for the portfolio on the testing days\n",
    "average_return = compute_portfolio_return(x_optimal, r[T_train:], po_test, p1_test)\n",
    "print(f\"Average return on the remaining days: {average_return}\")\n"
   ]
  }
 ],
 "metadata": {
  "kernelspec": {
   "display_name": "Python 3 (ipykernel)",
   "language": "python",
   "name": "python3"
  },
  "language_info": {
   "codemirror_mode": {
    "name": "ipython",
    "version": 3
   },
   "file_extension": ".py",
   "mimetype": "text/x-python",
   "name": "python",
   "nbconvert_exporter": "python",
   "pygments_lexer": "ipython3",
   "version": "3.10.11"
  }
 },
 "nbformat": 4,
 "nbformat_minor": 4
}
