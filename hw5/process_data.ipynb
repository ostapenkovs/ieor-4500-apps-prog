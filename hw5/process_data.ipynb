{
 "cells": [
  {
   "cell_type": "code",
   "execution_count": 5,
   "metadata": {},
   "outputs": [],
   "source": [
    "# imports\n",
    "import numpy as np\n",
    "import pandas as pd\n",
    "import pickle"
   ]
  },
  {
   "cell_type": "code",
   "execution_count": 6,
   "metadata": {},
   "outputs": [],
   "source": [
    "# initial data clean to get rid of na values\n",
    "fnames = ['closeRussell1000', 'closeWilshire5000']\n",
    "\n",
    "for fname in fnames:\n",
    "    # read in data\n",
    "    df = pd.read_csv(f'./data/{fname}.csv', index_col=0)\n",
    "    # drop columns with no data\n",
    "    df.dropna(axis=1, how='all', inplace=True)\n",
    "    # format column names\n",
    "    df.columns = [x.strip('.Close') for x in df.columns]\n",
    "    # write clean data\n",
    "    df.to_csv(f'./data/{fname}_clean.csv', index=False)\n",
    "    df = None"
   ]
  },
  {
   "cell_type": "code",
   "execution_count": 7,
   "metadata": {},
   "outputs": [
    {
     "name": "stdout",
     "output_type": "stream",
     "text": [
      "Made the delta array for closeRussell1000. Shape (2769, 459361)\n"
     ]
    }
   ],
   "source": [
    "# data processing to compute the delta array\n",
    "fnames = ['closeRussell1000']\n",
    "\n",
    "for fname in fnames:\n",
    "    df = pd.read_csv(f'./data/{fname}_clean.csv')\n",
    "    n, p = df.shape\n",
    "\n",
    "    # compute returns from close prices\n",
    "    df = df.pct_change()\n",
    "\n",
    "    # predefine empty delta array\n",
    "    delta = np.zeros((n, p * (p-1) // 2))\n",
    "\n",
    "    # filling up delta array according to definition\n",
    "    k = 0\n",
    "    pair_names = list()\n",
    "\n",
    "    for i in range(p-1):\n",
    "        col = df.iloc[:, i]\n",
    "        subset = df.iloc[:, i+1:]\n",
    "\n",
    "        new_pairs = [col.name + '+' + sub_col for sub_col in subset.columns]\n",
    "        num_new_pairs = len(new_pairs)\n",
    "        pair_names += new_pairs\n",
    "\n",
    "        diff = subset.sub(col, axis=0).values\n",
    "        delta[:, k: k+num_new_pairs] = diff\n",
    "        k += num_new_pairs\n",
    "\n",
    "        col = subset = new_pairs = diff = None\n",
    "\n",
    "    df = None\n",
    "    print(f'Made the delta array for {fname}. Shape {delta.shape}')\n",
    "    \n",
    "    # export delta array\n",
    "    with open(f'./data/{fname}_delta.pkl', 'wb') as f:\n",
    "        pickle.dump(pd.DataFrame(delta, columns=pair_names), f)\n",
    "    \n",
    "    delta = pair_names = None"
   ]
  }
 ],
 "metadata": {
  "kernelspec": {
   "display_name": "myenv",
   "language": "python",
   "name": "python3"
  },
  "language_info": {
   "codemirror_mode": {
    "name": "ipython",
    "version": 3
   },
   "file_extension": ".py",
   "mimetype": "text/x-python",
   "name": "python",
   "nbconvert_exporter": "python",
   "pygments_lexer": "ipython3",
   "version": "3.10.11"
  }
 },
 "nbformat": 4,
 "nbformat_minor": 2
}
