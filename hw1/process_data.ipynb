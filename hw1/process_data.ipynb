{
 "cells": [
  {
   "cell_type": "code",
   "execution_count": 1,
   "metadata": {},
   "outputs": [],
   "source": [
    "import pandas as pd"
   ]
  },
  {
   "cell_type": "code",
   "execution_count": 2,
   "metadata": {},
   "outputs": [],
   "source": [
    "TRADE = pd.read_csv(\"./data/TSLA_TRADE.csv\")"
   ]
  },
  {
   "cell_type": "code",
   "execution_count": null,
   "metadata": {},
   "outputs": [],
   "source": [
    "#Convert to datetime\n",
    "TRADE['Dates'] = pd.to_datetime(TRADE['Dates'])\n",
    "TRADE.set_index('Dates', inplace=True)\n",
    "\n",
    "#Select only half the data and only volume\n",
    "TRADE = TRADE[\"Volume\"][:len(TRADE)//2]\n",
    "\n",
    "# Select only first two hours\n",
    "mask = (TRADE.index.hour >= 9) & ((TRADE.index.hour < 11) | ((TRADE.index.hour == 11) & (TRADE.index.minute <= 30)))\n",
    "TRADE = TRADE[mask]\n",
    "\n",
    "#Divide volume by 100 for Total score\n",
    "TRADE = TRADE/100\n",
    "\n",
    "TRADE.to_csv(\"./data/TSLA_first_two_hours_HW1.csv\")"
   ]
  }
 ],
 "metadata": {
  "kernelspec": {
   "display_name": "myenv",
   "language": "python",
   "name": "python3"
  },
  "language_info": {
   "codemirror_mode": {
    "name": "ipython",
    "version": 3
   },
   "file_extension": ".py",
   "mimetype": "text/x-python",
   "name": "python",
   "nbconvert_exporter": "python",
   "pygments_lexer": "ipython3",
   "version": "3.10.11"
  }
 },
 "nbformat": 4,
 "nbformat_minor": 2
}
