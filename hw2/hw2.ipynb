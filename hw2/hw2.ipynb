{
 "cells": [
  {
   "cell_type": "markdown",
   "metadata": {},
   "source": [
    "# <span style='color:red'>Project 2.  Due October 23</span>"
   ]
  },
  {
   "cell_type": "code",
   "execution_count": 1,
   "metadata": {
    "scrolled": true
   },
   "outputs": [
    {
     "name": "stderr",
     "output_type": "stream",
     "text": [
      "C:\\Users\\Guido De Filippo\\AppData\\Local\\Temp\\ipykernel_17444\\1189900070.py:1: DeprecationWarning: Importing display from IPython.core.display is deprecated since IPython 7.14, please import from IPython display\n",
      "  from IPython.core.display import display, HTML\n"
     ]
    },
    {
     "data": {
      "text/html": [
       "<style>.container { width: 90% !important; }</style>"
      ],
      "text/plain": [
       "<IPython.core.display.HTML object>"
      ]
     },
     "metadata": {},
     "output_type": "display_data"
    }
   ],
   "source": [
    "from IPython.core.display import display, HTML\n",
    "display(HTML(\"<style>.container { width: 90% !important; }</style>\"))"
   ]
  },
  {
   "cell_type": "markdown",
   "metadata": {},
   "source": [
    "### In this project we develop a first-order algorithm to construct a portfolio using intraday data."
   ]
  },
  {
   "cell_type": "code",
   "execution_count": 2,
   "metadata": {},
   "outputs": [],
   "source": [
    "import csv\n",
    "import sys\n",
    "import scipy.io\n",
    "import numpy as np\n",
    "import math\n",
    "import matplotlib.pyplot as plt"
   ]
  },
  {
   "cell_type": "markdown",
   "metadata": {},
   "source": [
    "##### We will have data involving $n$ assets, and use the first $T$ days of the data to compute the portfolio.\n",
    "##### The computation will produce a weight $x_i$ for each asset $i = 1,...,n$, which could be long or short.\n",
    "##### We assume that on each day, a position is taken at the open, and closed at noon.  So we define:\n",
    "$$ p^o_{j,t} = \\ \\text{price of asset $j$ on day $t$ at the open}$$\n",
    "$$ p^1_{j,t} = \\ \\text{price of asset $j$ on day $t$ at noon}$$\n",
    "$$ r_{j,t} =  \\ \\frac{p^1_{j,t} - p^o_{j,t}}{p^o_{j,t}} = \\ \\text{return earned by asset $j$ on day $t$.}$$\n",
    "$$ \\bar r_j = \\ \\frac{1}{T} \\sum_{t = 1}^T r_{j,t} = \\ \\text{average return earned by asset $j$.}$$"
   ]
  },
  {
   "cell_type": "markdown",
   "metadata": {},
   "source": [
    "#### The optimization problem to solve depends on two parameters: $\\theta \\ge 0$ and $\\pi > 0 0$.\n",
    "####\n",
    "$$ \\text{minimize} \\ \\left(-\\sum_{j = 1}^n \\bar r_j x_j\\right) \\ + \\ \\theta \\left( \\frac{1}{T} \\sum_{t = 1}^{T}\\left[\\sum_{j = 1}^n (r_{j,t} -  \\bar r_j)x_j\\right]^\\pi\\right)^{1/\\pi}$$\n",
    "#### \n",
    "#### There are no constraints on the quantities $x_j$.\n",
    "#### The first sum is minus the average return earned by the portfolio.  In the second sum, the quantity inside the square brackets is the excess return earned by the portfolio on day $t$, magnified by the power $\\pi$.  The quantity $\\theta$ is a risk aversion parameter.\n",
    " "
   ]
  },
  {
   "cell_type": "markdown",
   "metadata": {},
   "source": [
    "### <span style='color:red'> Task 1. Develop a first-order method to address this computational problem.</span>\n",
    "#### \n",
    "#### Your method should work with values of $T$ at least $100$. Use the data we provide for AMZN, NFLX, TSLA, i.e., $n = 3$. \n",
    "###\n",
    "#### Make sure your code works with $\\pi = 0.5, 2, 4, 6$, and $\\theta = 0.1, 10, 1000, 10^5, 10^6$."
   ]
  },
  {
   "cell_type": "markdown",
   "metadata": {},
   "source": [
    "Denote the objective function as  $F(x)$. We will take the gradient of $ F(x) $ with respect to the vector $ x $. The gradient will be a vector of partial derivatives, where each element $ k $ is the partial derivative of $ F(x) $ with respect to $ x_k $.\n",
    "\n",
    "$$ F(x) = \\left(-\\sum_{j = 1}^n \\bar r_j x_j\\right) + \\theta \\left( \\frac{1}{T} \\sum_{t = 1}^{T}\\left[\\sum_{j = 1}^n (r_{j,t} -  \\bar r_j)x_j\\right]^\\pi\\right)^{1/\\pi} $$\n",
    "\n",
    "Let's take the derivative piece by piece.\n",
    "\n",
    "1. **Derivative of the first term**:\n",
    "$$ \\frac{\\partial}{\\partial x_k} \\left(-\\sum_{j = 1}^n \\bar r_j x_j\\right) = -\\bar r_k $$\n",
    "\n",
    "2. **Derivative of the second term**:\n",
    "For the second term, we'll need to apply the chain rule and the formula for differentiating powers. The outer function is $ g(u) = u^{1/\\pi} $ and the inner function is $ u = \\frac{1}{T} \\sum_{t = 1}^{T}\\left[\\sum_{j = 1}^n (r_{j,t} -  \\bar r_j)x_j\\right]^\\pi $.\n",
    "\n",
    "We first find $ \\frac{du}{dx_k} $ and then use the chain rule to find $ \\frac{dg}{dx_k} $:\n",
    "\n",
    "$$ \\frac{du}{dx_k} = \\frac{1}{T} \\sum_{t = 1}^{T} \\pi \\left[\\sum_{j = 1}^n (r_{j,t} -  \\bar r_j)x_j\\right]^{\\pi-1}(r_{k,t} -  \\bar r_k) $$\n",
    "\n",
    "Now apply the chain rule:\n",
    "\n",
    "$$ \\frac{dg}{dx_k} = \\frac{d}{du} g(u) \\cdot \\frac{du}{dx_k} = \\frac{1}{\\pi} u^{(1/\\pi)-1} \\cdot \\frac{du}{dx_k} $$\n",
    "\n",
    "Now, putting it all together for the second term, we get:\n",
    "\n",
    "$$ \\theta \\cdot \\frac{dg}{dx_k} = \\theta \\cdot \\frac{1}{\\pi} u^{(1/\\pi)-1} \\cdot \\frac{1}{T} \\sum_{t = 1}^{T} \\pi \\left[\\sum_{j = 1}^n (r_{j,t} -  \\bar r_j)x_j\\right]^{\\pi-1}(r_{k,t} -  \\bar r_k) $$\n",
    "\n",
    "3. **Sum of the derivatives**:\n",
    "Now summing the derivatives of the two terms, we obtain the $ k $-th component of the gradient:\n",
    "\n",
    "$$ \\frac{\\partial F(x)}{\\partial x_k} = -\\bar r_k + \\theta \\cdot \\frac{1}{\\pi} u^{(1/\\pi)-1} \\cdot \\frac{1}{T} \\sum_{t = 1}^{T} \\pi \\left[\\sum_{j = 1}^n (r_{j,t} -  \\bar r_j)x_j\\right]^{\\pi-1}(r_{k,t} -  \\bar r_k) $$"
   ]
  },
  {
   "cell_type": "code",
   "execution_count": 3,
   "metadata": {},
   "outputs": [],
   "source": [
    "def compute_gradient(x, r, r_bar, theta, pi, T):\n",
    "    n = len(x)\n",
    "    gradient = np.zeros(n)\n",
    "    \n",
    "    # Compute u\n",
    "    u = (1/T) * np.sum([(np.sum([(r[t, j] - r_bar[j]) * x[j] for j in range(n)]))**pi for t in range(T)])\n",
    "    \n",
    "    for k in range(n):\n",
    "        term1 = -r_bar[k]\n",
    "        term2 = theta * (1/pi) * u**((1/pi)-1) * (1/T) * np.sum([pi * (np.sum([(r[t, j] - r_bar[j]) * x[j] for j in range(n)]))**(pi-1) * (r[t, k] - r_bar[k]) for t in range(T)])\n",
    "        gradient[k] = term1 + term2\n",
    "        \n",
    "    return gradient\n",
    "\n"
   ]
  },
  {
   "cell_type": "code",
   "execution_count": 4,
   "metadata": {},
   "outputs": [],
   "source": [
    "def gradient_descent(r, r_bar, initial_x, alpha, theta, pi, T, max_iterations=1000, tolerance=1e-6):\n",
    "    x = initial_x\n",
    "    for k in range(max_iterations):\n",
    "        gradient = compute_gradient(x, r, r_bar, theta, pi, T)\n",
    "        \n",
    "        # Update rule\n",
    "        x_new = x - alpha * gradient\n",
    "        \n",
    "        # Convergence check\n",
    "        if np.linalg.norm(x_new - x) < tolerance:\n",
    "            break\n",
    "        \n",
    "        x = x_new\n",
    "        \n",
    "    return x"
   ]
  },
  {
   "cell_type": "code",
   "execution_count": 17,
   "metadata": {},
   "outputs": [
    {
     "name": "stderr",
     "output_type": "stream",
     "text": [
      "C:\\Users\\Guido De Filippo\\AppData\\Local\\Temp\\ipykernel_17444\\1716008853.py:20: FutureWarning: Passing a set as an indexer is deprecated and will raise in a future version. Use a list instead.\n",
      "  returns_df[ticker] = returns_df[ticker].loc[common_dates]\n",
      "C:\\Users\\Guido De Filippo\\AppData\\Local\\Temp\\ipykernel_17444\\1716008853.py:20: FutureWarning: Passing a set as an indexer is deprecated and will raise in a future version. Use a list instead.\n",
      "  returns_df[ticker] = returns_df[ticker].loc[common_dates]\n",
      "C:\\Users\\Guido De Filippo\\AppData\\Local\\Temp\\ipykernel_17444\\1716008853.py:20: FutureWarning: Passing a set as an indexer is deprecated and will raise in a future version. Use a list instead.\n",
      "  returns_df[ticker] = returns_df[ticker].loc[common_dates]\n"
     ]
    }
   ],
   "source": [
    "import pandas as pd\n",
    "import numpy as np\n",
    "from tqdm import tqdm\n",
    "\n",
    "# Load processed returns\n",
    "tickers = ['AMZN', 'NFLX', 'TSLA']\n",
    "\n",
    "# Load processed returns as DataFrames\n",
    "returns_df = {}\n",
    "for ticker in tickers:\n",
    "    returns_df[ticker] = pd.read_csv(f'./data/{ticker}_processed.csv', index_col=0)\n",
    "\n",
    "# Find the common dates where all tickers have returns\n",
    "common_dates = set(returns_df[tickers[0]].index)\n",
    "for ticker in tickers[1:]:\n",
    "    common_dates.intersection_update(set(returns_df[ticker].index))\n",
    "\n",
    "# Filter the returns for each ticker based on the common dates\n",
    "for ticker in tickers:\n",
    "    returns_df[ticker] = returns_df[ticker].loc[common_dates]\n",
    "\n",
    "# Convert filtered returns to matrix form\n",
    "r = np.column_stack([returns_df[ticker]['Returns'].values for ticker in tickers])\n",
    "\n",
    "r_train = r[:100]\n",
    "r_test = r[100:]"
   ]
  },
  {
   "cell_type": "code",
   "execution_count": 21,
   "metadata": {},
   "outputs": [
    {
     "name": "stderr",
     "output_type": "stream",
     "text": [
      "C:\\Users\\Guido De Filippo\\AppData\\Local\\Temp\\ipykernel_17444\\3891682047.py:6: RuntimeWarning: invalid value encountered in double_scalars\n",
      "  u = (1/T) * np.sum([(np.sum([(r[t, j] - r_bar[j]) * x[j] for j in range(n)]))**pi for t in range(T)])\n",
      "C:\\Users\\Guido De Filippo\\AppData\\Local\\Temp\\ipykernel_17444\\3891682047.py:10: RuntimeWarning: invalid value encountered in double_scalars\n",
      "  term2 = theta * (1/pi) * u**((1/pi)-1) * (1/T) * np.sum([pi * (np.sum([(r[t, j] - r_bar[j]) * x[j] for j in range(n)]))**(pi-1) * (r[t, k] - r_bar[k]) for t in range(T)])\n"
     ]
    }
   ],
   "source": [
    "# Compute average returns\n",
    "r_bar = np.mean(r_train, axis=0)\n",
    "\n",
    "# Gradient Descent parameters\n",
    "initial_x = np.ones(3) / 3  # equally weighted portfolio\n",
    "alpha = 0.01  # step size, might need adjustment\n",
    "pis = [0.5, 2, 4, 6]\n",
    "thetas = [0.1, 10, 1000, 10**5, 10**6]\n",
    "\n",
    "# Run Gradient Descent for each combination of pi and theta\n",
    "results = {}\n",
    "for pi in pis:\n",
    "    for theta in thetas:\n",
    "        x_optimal = gradient_descent(r_train, r_bar, initial_x, alpha, theta, pi, r_train.shape[0])\n",
    "        results[(pi, theta)] = x_optimal\n",
    "\n",
    "#print(results)"
   ]
  },
  {
   "cell_type": "code",
   "execution_count": 7,
   "metadata": {},
   "outputs": [
    {
     "data": {
      "text/plain": [
       "{(0.5, 0.1): array([nan, nan, nan]),\n",
       " (0.5, 10): array([nan, nan, nan]),\n",
       " (0.5, 1000): array([nan, nan, nan]),\n",
       " (0.5, 100000): array([nan, nan, nan]),\n",
       " (0.5, 1000000): array([nan, nan, nan]),\n",
       " (2, 0.1): array([0.33089214, 0.32279751, 0.29718623]),\n",
       " (2, 10): array([0.00014672, 0.00013155, 0.00055289]),\n",
       " (2, 1000): array([0.01404502, 0.01619945, 0.06540541]),\n",
       " (2, 100000): array([1.40798618, 1.62784273, 6.57029954]),\n",
       " (2, 1000000): array([18.27827835, 21.13288904, 85.29632295]),\n",
       " (4, 0.1): array([0.32734281, 0.32201514, 0.28701329]),\n",
       " (4, 10): array([-0.00075146, -0.00055599, -0.00293777]),\n",
       " (4, 1000): array([-0.05148531, -0.03710566, -0.19790052]),\n",
       " (4, 100000): array([2.23584687, 1.60966228, 8.58706772]),\n",
       " (4, 1000000): array([ 32.35698151,  23.29531792, 124.27310172]),\n",
       " (6, 0.1): array([0.32392873, 0.32254587, 0.27542273]),\n",
       " (6, 10): array([0.00114648, 0.00058826, 0.00363312]),\n",
       " (6, 1000): array([0.0781723 , 0.04208522, 0.25984262]),\n",
       " (6, 100000): array([1.40278527, 0.75646427, 4.67005566]),\n",
       " (6, 1000000): array([ 46.45090285,  25.04994691, 154.64628761])}"
      ]
     },
     "execution_count": 7,
     "metadata": {},
     "output_type": "execute_result"
    }
   ],
   "source": [
    "results"
   ]
  },
  {
   "cell_type": "markdown",
   "metadata": {},
   "source": [
    "### <span style='color:red'>Task 2: Benchmark your portfolio on the remaining days</span>\n",
    "#### On each of the remaining days, we proceed as follows.  Denote by $x^*$ your portfolio. At the market open we invest $10^9 x^*_j$ on each asset $j$, and we close the position (by) noon.  You need to use the asset's price to compute the number of shares that you invest in, whether long or short. So the total you invest equals $$ \\sum_{j = 1}^n 10^9 |x^*_j|.$$\n",
    "#### Report the average return earned by your portfolio."
   ]
  },
  {
   "cell_type": "code",
   "execution_count": 15,
   "metadata": {},
   "outputs": [
    {
     "data": {
      "text/plain": [
       "11"
      ]
     },
     "execution_count": 15,
     "metadata": {},
     "output_type": "execute_result"
    }
   ],
   "source": [
    "len(r[100:])"
   ]
  },
  {
   "cell_type": "code",
   "execution_count": 9,
   "metadata": {},
   "outputs": [
    {
     "ename": "FileNotFoundError",
     "evalue": "[Errno 2] No such file or directory: './data/AMZN_remaining.csv'",
     "output_type": "error",
     "traceback": [
      "\u001b[1;31m---------------------------------------------------------------------------\u001b[0m",
      "\u001b[1;31mFileNotFoundError\u001b[0m                         Traceback (most recent call last)",
      "\u001b[1;32mc:\\Users\\Guido De Filippo\\Documents\\ieor-4500-apps-prog\\hw2\\hw2.ipynb Cell 14\u001b[0m line \u001b[0;36m1\n\u001b[0;32m      <a href='vscode-notebook-cell:/c%3A/Users/Guido%20De%20Filippo/Documents/ieor-4500-apps-prog/hw2/hw2.ipynb#X23sZmlsZQ%3D%3D?line=7'>8</a>\u001b[0m remaining_data \u001b[39m=\u001b[39m {}\n\u001b[0;32m      <a href='vscode-notebook-cell:/c%3A/Users/Guido%20De%20Filippo/Documents/ieor-4500-apps-prog/hw2/hw2.ipynb#X23sZmlsZQ%3D%3D?line=8'>9</a>\u001b[0m \u001b[39mfor\u001b[39;00m ticker \u001b[39min\u001b[39;00m tickers:\n\u001b[1;32m---> <a href='vscode-notebook-cell:/c%3A/Users/Guido%20De%20Filippo/Documents/ieor-4500-apps-prog/hw2/hw2.ipynb#X23sZmlsZQ%3D%3D?line=9'>10</a>\u001b[0m     df \u001b[39m=\u001b[39m pd\u001b[39m.\u001b[39;49mread_csv(\u001b[39mf\u001b[39;49m\u001b[39m'\u001b[39;49m\u001b[39m./data/\u001b[39;49m\u001b[39m{\u001b[39;49;00mticker\u001b[39m}\u001b[39;49;00m\u001b[39m_remaining.csv\u001b[39;49m\u001b[39m'\u001b[39;49m, index_col\u001b[39m=\u001b[39;49m\u001b[39m0\u001b[39;49m)\n\u001b[0;32m     <a href='vscode-notebook-cell:/c%3A/Users/Guido%20De%20Filippo/Documents/ieor-4500-apps-prog/hw2/hw2.ipynb#X23sZmlsZQ%3D%3D?line=10'>11</a>\u001b[0m     remaining_data[ticker] \u001b[39m=\u001b[39m df\n\u001b[0;32m     <a href='vscode-notebook-cell:/c%3A/Users/Guido%20De%20Filippo/Documents/ieor-4500-apps-prog/hw2/hw2.ipynb#X23sZmlsZQ%3D%3D?line=12'>13</a>\u001b[0m \u001b[39m# Compute the total investment and returns for each day\u001b[39;00m\n",
      "File \u001b[1;32m~\\AppData\\Roaming\\Python\\Python310\\site-packages\\pandas\\util\\_decorators.py:311\u001b[0m, in \u001b[0;36mdeprecate_nonkeyword_arguments.<locals>.decorate.<locals>.wrapper\u001b[1;34m(*args, **kwargs)\u001b[0m\n\u001b[0;32m    305\u001b[0m \u001b[39mif\u001b[39;00m \u001b[39mlen\u001b[39m(args) \u001b[39m>\u001b[39m num_allow_args:\n\u001b[0;32m    306\u001b[0m     warnings\u001b[39m.\u001b[39mwarn(\n\u001b[0;32m    307\u001b[0m         msg\u001b[39m.\u001b[39mformat(arguments\u001b[39m=\u001b[39marguments),\n\u001b[0;32m    308\u001b[0m         \u001b[39mFutureWarning\u001b[39;00m,\n\u001b[0;32m    309\u001b[0m         stacklevel\u001b[39m=\u001b[39mstacklevel,\n\u001b[0;32m    310\u001b[0m     )\n\u001b[1;32m--> 311\u001b[0m \u001b[39mreturn\u001b[39;00m func(\u001b[39m*\u001b[39margs, \u001b[39m*\u001b[39m\u001b[39m*\u001b[39mkwargs)\n",
      "File \u001b[1;32m~\\AppData\\Roaming\\Python\\Python310\\site-packages\\pandas\\io\\parsers\\readers.py:680\u001b[0m, in \u001b[0;36mread_csv\u001b[1;34m(filepath_or_buffer, sep, delimiter, header, names, index_col, usecols, squeeze, prefix, mangle_dupe_cols, dtype, engine, converters, true_values, false_values, skipinitialspace, skiprows, skipfooter, nrows, na_values, keep_default_na, na_filter, verbose, skip_blank_lines, parse_dates, infer_datetime_format, keep_date_col, date_parser, dayfirst, cache_dates, iterator, chunksize, compression, thousands, decimal, lineterminator, quotechar, quoting, doublequote, escapechar, comment, encoding, encoding_errors, dialect, error_bad_lines, warn_bad_lines, on_bad_lines, delim_whitespace, low_memory, memory_map, float_precision, storage_options)\u001b[0m\n\u001b[0;32m    665\u001b[0m kwds_defaults \u001b[39m=\u001b[39m _refine_defaults_read(\n\u001b[0;32m    666\u001b[0m     dialect,\n\u001b[0;32m    667\u001b[0m     delimiter,\n\u001b[1;32m   (...)\u001b[0m\n\u001b[0;32m    676\u001b[0m     defaults\u001b[39m=\u001b[39m{\u001b[39m\"\u001b[39m\u001b[39mdelimiter\u001b[39m\u001b[39m\"\u001b[39m: \u001b[39m\"\u001b[39m\u001b[39m,\u001b[39m\u001b[39m\"\u001b[39m},\n\u001b[0;32m    677\u001b[0m )\n\u001b[0;32m    678\u001b[0m kwds\u001b[39m.\u001b[39mupdate(kwds_defaults)\n\u001b[1;32m--> 680\u001b[0m \u001b[39mreturn\u001b[39;00m _read(filepath_or_buffer, kwds)\n",
      "File \u001b[1;32m~\\AppData\\Roaming\\Python\\Python310\\site-packages\\pandas\\io\\parsers\\readers.py:575\u001b[0m, in \u001b[0;36m_read\u001b[1;34m(filepath_or_buffer, kwds)\u001b[0m\n\u001b[0;32m    572\u001b[0m _validate_names(kwds\u001b[39m.\u001b[39mget(\u001b[39m\"\u001b[39m\u001b[39mnames\u001b[39m\u001b[39m\"\u001b[39m, \u001b[39mNone\u001b[39;00m))\n\u001b[0;32m    574\u001b[0m \u001b[39m# Create the parser.\u001b[39;00m\n\u001b[1;32m--> 575\u001b[0m parser \u001b[39m=\u001b[39m TextFileReader(filepath_or_buffer, \u001b[39m*\u001b[39m\u001b[39m*\u001b[39mkwds)\n\u001b[0;32m    577\u001b[0m \u001b[39mif\u001b[39;00m chunksize \u001b[39mor\u001b[39;00m iterator:\n\u001b[0;32m    578\u001b[0m     \u001b[39mreturn\u001b[39;00m parser\n",
      "File \u001b[1;32m~\\AppData\\Roaming\\Python\\Python310\\site-packages\\pandas\\io\\parsers\\readers.py:933\u001b[0m, in \u001b[0;36mTextFileReader.__init__\u001b[1;34m(self, f, engine, **kwds)\u001b[0m\n\u001b[0;32m    930\u001b[0m     \u001b[39mself\u001b[39m\u001b[39m.\u001b[39moptions[\u001b[39m\"\u001b[39m\u001b[39mhas_index_names\u001b[39m\u001b[39m\"\u001b[39m] \u001b[39m=\u001b[39m kwds[\u001b[39m\"\u001b[39m\u001b[39mhas_index_names\u001b[39m\u001b[39m\"\u001b[39m]\n\u001b[0;32m    932\u001b[0m \u001b[39mself\u001b[39m\u001b[39m.\u001b[39mhandles: IOHandles \u001b[39m|\u001b[39m \u001b[39mNone\u001b[39;00m \u001b[39m=\u001b[39m \u001b[39mNone\u001b[39;00m\n\u001b[1;32m--> 933\u001b[0m \u001b[39mself\u001b[39m\u001b[39m.\u001b[39m_engine \u001b[39m=\u001b[39m \u001b[39mself\u001b[39;49m\u001b[39m.\u001b[39;49m_make_engine(f, \u001b[39mself\u001b[39;49m\u001b[39m.\u001b[39;49mengine)\n",
      "File \u001b[1;32m~\\AppData\\Roaming\\Python\\Python310\\site-packages\\pandas\\io\\parsers\\readers.py:1217\u001b[0m, in \u001b[0;36mTextFileReader._make_engine\u001b[1;34m(self, f, engine)\u001b[0m\n\u001b[0;32m   1213\u001b[0m     mode \u001b[39m=\u001b[39m \u001b[39m\"\u001b[39m\u001b[39mrb\u001b[39m\u001b[39m\"\u001b[39m\n\u001b[0;32m   1214\u001b[0m \u001b[39m# error: No overload variant of \"get_handle\" matches argument types\u001b[39;00m\n\u001b[0;32m   1215\u001b[0m \u001b[39m# \"Union[str, PathLike[str], ReadCsvBuffer[bytes], ReadCsvBuffer[str]]\"\u001b[39;00m\n\u001b[0;32m   1216\u001b[0m \u001b[39m# , \"str\", \"bool\", \"Any\", \"Any\", \"Any\", \"Any\", \"Any\"\u001b[39;00m\n\u001b[1;32m-> 1217\u001b[0m \u001b[39mself\u001b[39m\u001b[39m.\u001b[39mhandles \u001b[39m=\u001b[39m get_handle(  \u001b[39m# type: ignore[call-overload]\u001b[39;49;00m\n\u001b[0;32m   1218\u001b[0m     f,\n\u001b[0;32m   1219\u001b[0m     mode,\n\u001b[0;32m   1220\u001b[0m     encoding\u001b[39m=\u001b[39;49m\u001b[39mself\u001b[39;49m\u001b[39m.\u001b[39;49moptions\u001b[39m.\u001b[39;49mget(\u001b[39m\"\u001b[39;49m\u001b[39mencoding\u001b[39;49m\u001b[39m\"\u001b[39;49m, \u001b[39mNone\u001b[39;49;00m),\n\u001b[0;32m   1221\u001b[0m     compression\u001b[39m=\u001b[39;49m\u001b[39mself\u001b[39;49m\u001b[39m.\u001b[39;49moptions\u001b[39m.\u001b[39;49mget(\u001b[39m\"\u001b[39;49m\u001b[39mcompression\u001b[39;49m\u001b[39m\"\u001b[39;49m, \u001b[39mNone\u001b[39;49;00m),\n\u001b[0;32m   1222\u001b[0m     memory_map\u001b[39m=\u001b[39;49m\u001b[39mself\u001b[39;49m\u001b[39m.\u001b[39;49moptions\u001b[39m.\u001b[39;49mget(\u001b[39m\"\u001b[39;49m\u001b[39mmemory_map\u001b[39;49m\u001b[39m\"\u001b[39;49m, \u001b[39mFalse\u001b[39;49;00m),\n\u001b[0;32m   1223\u001b[0m     is_text\u001b[39m=\u001b[39;49mis_text,\n\u001b[0;32m   1224\u001b[0m     errors\u001b[39m=\u001b[39;49m\u001b[39mself\u001b[39;49m\u001b[39m.\u001b[39;49moptions\u001b[39m.\u001b[39;49mget(\u001b[39m\"\u001b[39;49m\u001b[39mencoding_errors\u001b[39;49m\u001b[39m\"\u001b[39;49m, \u001b[39m\"\u001b[39;49m\u001b[39mstrict\u001b[39;49m\u001b[39m\"\u001b[39;49m),\n\u001b[0;32m   1225\u001b[0m     storage_options\u001b[39m=\u001b[39;49m\u001b[39mself\u001b[39;49m\u001b[39m.\u001b[39;49moptions\u001b[39m.\u001b[39;49mget(\u001b[39m\"\u001b[39;49m\u001b[39mstorage_options\u001b[39;49m\u001b[39m\"\u001b[39;49m, \u001b[39mNone\u001b[39;49;00m),\n\u001b[0;32m   1226\u001b[0m )\n\u001b[0;32m   1227\u001b[0m \u001b[39massert\u001b[39;00m \u001b[39mself\u001b[39m\u001b[39m.\u001b[39mhandles \u001b[39mis\u001b[39;00m \u001b[39mnot\u001b[39;00m \u001b[39mNone\u001b[39;00m\n\u001b[0;32m   1228\u001b[0m f \u001b[39m=\u001b[39m \u001b[39mself\u001b[39m\u001b[39m.\u001b[39mhandles\u001b[39m.\u001b[39mhandle\n",
      "File \u001b[1;32m~\\AppData\\Roaming\\Python\\Python310\\site-packages\\pandas\\io\\common.py:789\u001b[0m, in \u001b[0;36mget_handle\u001b[1;34m(path_or_buf, mode, encoding, compression, memory_map, is_text, errors, storage_options)\u001b[0m\n\u001b[0;32m    784\u001b[0m \u001b[39melif\u001b[39;00m \u001b[39misinstance\u001b[39m(handle, \u001b[39mstr\u001b[39m):\n\u001b[0;32m    785\u001b[0m     \u001b[39m# Check whether the filename is to be opened in binary mode.\u001b[39;00m\n\u001b[0;32m    786\u001b[0m     \u001b[39m# Binary mode does not support 'encoding' and 'newline'.\u001b[39;00m\n\u001b[0;32m    787\u001b[0m     \u001b[39mif\u001b[39;00m ioargs\u001b[39m.\u001b[39mencoding \u001b[39mand\u001b[39;00m \u001b[39m\"\u001b[39m\u001b[39mb\u001b[39m\u001b[39m\"\u001b[39m \u001b[39mnot\u001b[39;00m \u001b[39min\u001b[39;00m ioargs\u001b[39m.\u001b[39mmode:\n\u001b[0;32m    788\u001b[0m         \u001b[39m# Encoding\u001b[39;00m\n\u001b[1;32m--> 789\u001b[0m         handle \u001b[39m=\u001b[39m \u001b[39mopen\u001b[39;49m(\n\u001b[0;32m    790\u001b[0m             handle,\n\u001b[0;32m    791\u001b[0m             ioargs\u001b[39m.\u001b[39;49mmode,\n\u001b[0;32m    792\u001b[0m             encoding\u001b[39m=\u001b[39;49mioargs\u001b[39m.\u001b[39;49mencoding,\n\u001b[0;32m    793\u001b[0m             errors\u001b[39m=\u001b[39;49merrors,\n\u001b[0;32m    794\u001b[0m             newline\u001b[39m=\u001b[39;49m\u001b[39m\"\u001b[39;49m\u001b[39m\"\u001b[39;49m,\n\u001b[0;32m    795\u001b[0m         )\n\u001b[0;32m    796\u001b[0m     \u001b[39melse\u001b[39;00m:\n\u001b[0;32m    797\u001b[0m         \u001b[39m# Binary mode\u001b[39;00m\n\u001b[0;32m    798\u001b[0m         handle \u001b[39m=\u001b[39m \u001b[39mopen\u001b[39m(handle, ioargs\u001b[39m.\u001b[39mmode)\n",
      "\u001b[1;31mFileNotFoundError\u001b[0m: [Errno 2] No such file or directory: './data/AMZN_remaining.csv'"
     ]
    }
   ],
   "source": [
    "# Assuming x_star is the optimal portfolio obtained from the Gradient Descent\n",
    "chosen_pi = 2\n",
    "chosen_theta = 100000\n",
    "x_star = results[(chosen_pi, chosen_theta)]  # replace chosen_pi and chosen_theta with the values you used\n",
    "\n",
    "\n",
    "\n",
    "# Compute the total investment and returns for each day\n",
    "total_investments = []\n",
    "total_returns = []\n",
    "for t in range(len(remaining_data[tickers[0]])):\n",
    "    daily_investment = 0\n",
    "    daily_return = 0\n",
    "    for j, ticker in enumerate(tickers):\n",
    "        open_price = remaining_data[ticker].iloc[t]['Open']\n",
    "        noon_price = remaining_data[ticker].iloc[t]['Close']\n",
    "        \n",
    "        # Number of shares for asset j\n",
    "        shares = (10**9 * x_star[j]) / open_price\n",
    "        \n",
    "        # Total investment for asset j\n",
    "        daily_investment += abs(10**9 * x_star[j])\n",
    "        \n",
    "        # Return for asset j\n",
    "        asset_return = (noon_price - open_price) * shares\n",
    "        daily_return += asset_return\n",
    "        \n",
    "    total_investments.append(daily_investment)\n",
    "    total_returns.append(daily_return)\n",
    "\n",
    "# Compute the average return\n",
    "average_return = np.mean(total_returns) / np.mean(total_investments)\n",
    "\n",
    "print(f\"Average return earned by the portfolio: {average_return:.2%}\")\n"
   ]
  },
  {
   "cell_type": "code",
   "execution_count": 8,
   "metadata": {},
   "outputs": [
    {
     "ename": "NameError",
     "evalue": "name 'T' is not defined",
     "output_type": "error",
     "traceback": [
      "\u001b[1;31m---------------------------------------------------------------------------\u001b[0m",
      "\u001b[1;31mNameError\u001b[0m                                 Traceback (most recent call last)",
      "\u001b[1;32mc:\\Users\\Guido De Filippo\\Documents\\ieor-4500-apps-prog\\hw2\\hw2.ipynb Cell 14\u001b[0m line \u001b[0;36m1\n\u001b[0;32m     <a href='vscode-notebook-cell:/c%3A/Users/Guido%20De%20Filippo/Documents/ieor-4500-apps-prog/hw2/hw2.ipynb#X12sZmlsZQ%3D%3D?line=9'>10</a>\u001b[0m     \u001b[39mreturn\u001b[39;00m np\u001b[39m.\u001b[39mmean(daily_returns)\n\u001b[0;32m     <a href='vscode-notebook-cell:/c%3A/Users/Guido%20De%20Filippo/Documents/ieor-4500-apps-prog/hw2/hw2.ipynb#X12sZmlsZQ%3D%3D?line=11'>12</a>\u001b[0m \u001b[39m# Split the data into training and testing sets\u001b[39;00m\n\u001b[1;32m---> <a href='vscode-notebook-cell:/c%3A/Users/Guido%20De%20Filippo/Documents/ieor-4500-apps-prog/hw2/hw2.ipynb#X12sZmlsZQ%3D%3D?line=12'>13</a>\u001b[0m T_train \u001b[39m=\u001b[39m T  \u001b[39m# Number of training days\u001b[39;00m\n\u001b[0;32m     <a href='vscode-notebook-cell:/c%3A/Users/Guido%20De%20Filippo/Documents/ieor-4500-apps-prog/hw2/hw2.ipynb#X12sZmlsZQ%3D%3D?line=13'>14</a>\u001b[0m po_train \u001b[39m=\u001b[39m po[:T_train]  \u001b[39m# Prices at open for training days\u001b[39;00m\n\u001b[0;32m     <a href='vscode-notebook-cell:/c%3A/Users/Guido%20De%20Filippo/Documents/ieor-4500-apps-prog/hw2/hw2.ipynb#X12sZmlsZQ%3D%3D?line=14'>15</a>\u001b[0m p1_train \u001b[39m=\u001b[39m p1[:T_train]  \u001b[39m# Prices at noon for training days\u001b[39;00m\n",
      "\u001b[1;31mNameError\u001b[0m: name 'T' is not defined"
     ]
    }
   ],
   "source": [
    "def compute_portfolio_return(x_star, r, po, p1):\n",
    "    n = len(x_star)\n",
    "    daily_returns = []\n",
    "    \n",
    "    for t in range(len(r)):\n",
    "        shares = [10**9 * x_star[j] / po[t, j] for j in range(n)]\n",
    "        daily_return = sum([shares[j] * (p1[t, j] - po[t, j]) for j in range(n)])\n",
    "        daily_returns.append(daily_return)\n",
    "    \n",
    "    return np.mean(daily_returns)\n",
    "\n",
    "# Split the data into training and testing sets\n",
    "T_train = T  # Number of training days\n",
    "po_train = po[:T_train]  # Prices at open for training days\n",
    "p1_train = p1[:T_train]  # Prices at noon for training days\n",
    "\n",
    "po_test = po[T_train:]  # Prices at open for testing days\n",
    "p1_test = p1[T_train:]  # Prices at noon for testing days\n",
    "\n",
    "# Compute the average return for the portfolio on the testing days\n",
    "average_return = compute_portfolio_return(x_optimal, r[T_train:], po_test, p1_test)\n",
    "print(f\"Average return on the remaining days: {average_return}\")\n"
   ]
  }
 ],
 "metadata": {
  "kernelspec": {
   "display_name": "Python 3 (ipykernel)",
   "language": "python",
   "name": "python3"
  },
  "language_info": {
   "codemirror_mode": {
    "name": "ipython",
    "version": 3
   },
   "file_extension": ".py",
   "mimetype": "text/x-python",
   "name": "python",
   "nbconvert_exporter": "python",
   "pygments_lexer": "ipython3",
   "version": "3.10.13"
  }
 },
 "nbformat": 4,
 "nbformat_minor": 4
}
