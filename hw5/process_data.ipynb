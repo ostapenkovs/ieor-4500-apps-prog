{
 "cells": [
  {
   "cell_type": "code",
   "execution_count": 1,
   "metadata": {},
   "outputs": [],
   "source": [
    "# imports\n",
    "import numpy as np\n",
    "import pandas as pd\n",
    "from tqdm.notebook import tqdm\n",
    "import time\n",
    "import pickle\n",
    "import traceback"
   ]
  },
  {
   "cell_type": "code",
   "execution_count": 2,
   "metadata": {},
   "outputs": [],
   "source": [
    "# initial data clean to get rid of na values\n",
    "do_this = True\n",
    "if do_this:\n",
    "    fnames = ['closeRussell1000', 'closeWilshire5000']\n",
    "\n",
    "    for fname in fnames:\n",
    "        # read in data\n",
    "        df = pd.read_csv(f'./data/{fname}.csv', index_col=0)\n",
    "        # drop columns with no data\n",
    "        df.dropna(axis=1, how='all', inplace=True)\n",
    "        # format column names\n",
    "        df.columns = [x.strip('.Close') for x in df.columns]\n",
    "        # write clean data\n",
    "        df.to_csv(f'./data/{fname}_clean.csv', index=False)\n",
    "        df = None"
   ]
  },
  {
   "cell_type": "code",
   "execution_count": 3,
   "metadata": {},
   "outputs": [],
   "source": [
    "def time_the_dump(obj, fname: str, ndec=4) -> bool:\n",
    "    '''Call pickle.dump() while timing how long it takes.'''\n",
    "    try:\n",
    "        start = time.time()\n",
    "        with open(fname, 'wb') as f: pickle.dump(obj, f)\n",
    "        print(f'Took { round(time.time() - start, ndec) } secs.')\n",
    "        return True\n",
    "    except Exception:\n",
    "        print(traceback.format_exc())\n",
    "        return False"
   ]
  },
  {
   "cell_type": "code",
   "execution_count": 4,
   "metadata": {},
   "outputs": [
    {
     "data": {
      "application/vnd.jupyter.widget-view+json": {
       "model_id": "ff66f5a69c79421396e355419aedd8d8",
       "version_major": 2,
       "version_minor": 0
      },
      "text/plain": [
       "  0%|          | 0/958 [00:00<?, ?it/s]"
      ]
     },
     "metadata": {},
     "output_type": "display_data"
    }
   ],
   "source": [
    "# data processing to compute the delta array + other relevant objects. trying with only Russell 1000 for now\n",
    "fnames = ['closeRussell1000']\n",
    "\n",
    "for fname in fnames:\n",
    "    start = time.time()\n",
    "\n",
    "    df = pd.read_csv(f'./data/{fname}_clean.csv')\n",
    "    n, p = df.shape\n",
    "\n",
    "    # compute returns from close prices\n",
    "    df = df.pct_change()\n",
    "    # filling NA returns from the get-go to avoid downstream problems\n",
    "    df = df.fillna(df.mean())\n",
    "\n",
    "    # predefine empty delta array\n",
    "    d = p * (p-1) // 2\n",
    "    delta = np.zeros((n, d))\n",
    "    delta_bar = np.zeros(d)\n",
    "    delta_centered = np.zeros((n, d))\n",
    "    pair_names = list()\n",
    "\n",
    "    # filling up delta array according to definition\n",
    "    k = 0\n",
    "    for i in tqdm(range(p-1), leave=True):\n",
    "        short_col = df.iloc[:, i]       # this is the column we're going to subtract (short position)\n",
    "        long_cols = df.iloc[:, i+1:]    # these are the remaining columns we are subtracting from (long position)\n",
    "\n",
    "        new_pairs = [long_col + '-' + short_col.name for long_col in long_cols.columns] # keeping track of the pair name\n",
    "        num_new_pairs = len(new_pairs)\n",
    "        pair_names += new_pairs\n",
    "\n",
    "        difference = long_cols.sub(short_col, axis=0).values\n",
    "        delta[:, k: k+num_new_pairs] = difference\n",
    "        delta_bar[k: k+num_new_pairs] = np.nanmean(difference, axis=0)\n",
    "        difference = None\n",
    "\n",
    "        delta_centered[:, k: k+num_new_pairs] = delta[:, k: k+num_new_pairs] - delta_bar[k: k+num_new_pairs]\n",
    "        k += num_new_pairs\n",
    "        short_col = long_cols = new_pairs = None\n",
    "    \n",
    "    # export everything\n",
    "    time_the_dump(delta, f'./data/{fname}_delta.pkl')\n",
    "    delta = None\n",
    "    time_the_dump(delta_bar, f'./data/{fname}_delta_bar.pkl')\n",
    "    delta_bar = None\n",
    "    time_the_dump(delta_centered, f'./data/{fname}_delta_centered.pkl')\n",
    "    delta_centered = None\n",
    "    time_the_dump(pair_names, f'./data/{fname}_pair_names.pkl')\n",
    "    pair_names = None"
   ]
  }
 ],
 "metadata": {
  "kernelspec": {
   "display_name": "myenv",
   "language": "python",
   "name": "python3"
  },
  "language_info": {
   "codemirror_mode": {
    "name": "ipython",
    "version": 3
   },
   "file_extension": ".py",
   "mimetype": "text/x-python",
   "name": "python",
   "nbconvert_exporter": "python",
   "pygments_lexer": "ipython3",
   "version": "3.10.11"
  }
 },
 "nbformat": 4,
 "nbformat_minor": 2
}
