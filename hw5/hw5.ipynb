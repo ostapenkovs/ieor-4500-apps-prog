{
 "cells": [
  {
   "cell_type": "code",
   "execution_count": 2,
   "metadata": {},
   "outputs": [],
   "source": [
    "# imports\n",
    "import numpy as np\n",
    "np.random.seed(1)\n",
    "\n",
    "import pandas as pd\n",
    "from tqdm.notebook import tqdm\n",
    "import time\n",
    "import pickle\n",
    "import matplotlib.pyplot as plt\n",
    "import seaborn as sns"
   ]
  },
  {
   "cell_type": "markdown",
   "metadata": {},
   "source": [
    "# IEOR 4500. Project 5. Pairs trading\n",
    "\n",
    "In this project we address the basic elements of the pairs-trading strategy.\n",
    "\n",
    "## Notation:\n",
    "$p_i^t$ denotes the (closing) price of asset $i$ at time $t$.\n",
    "\n",
    "The basic premise is as follows. Suppose that we consider a pair $(i,j)$ of assets. When we invest $S_k$ on this pair, we do the following:\n",
    "\n",
    "- We take the position $S_k$ in asset $i$.\n",
    "- We take the position $-S_k$ in asset $j$.\n",
    "\n",
    "The worth of this position is judged as follows:\n",
    "\n",
    "- The number of shares in asset $i$ equals $k/p_i^t$.\n",
    "- The value of the position in asset $i$, at time $t+1$, equals $kp_i^{t+1}/p_i^t$.\n",
    "- The value of the position in asset $j$, at time $t+1$, equals $-kp_j^{t+1}/p_j^t$.\n",
    "\n",
    "Hence, if we close the pair position at time $t+1$, the value we accrue (gain or loss) equals\n",
    "$$kp_i^{t+1}/p_i^t - kp_j^{t+1}/p_j^t.$$\n",
    "\n",
    "Conceptually, you may have thought, throughout, that $k > 0$, i.e., we are longing $i$ and shorting $j$. However, make sure you understand that the formula is correct if $k < 0$, i.e., we short $i$ and long $j$.\n",
    "\n",
    "- Denote\n",
    "$$\\Delta_i^t = p_i^{t+1}/p_i^t - p_j^{t+1}/p_j^t,$$\n",
    "and\n",
    "$$\\bar{\\Delta}_{ij} = \\frac{1}{T} \\sum_{t=0}^{T-1} \\Delta_i^t.$$\n",
    "\n",
    "The optimization problem we want to solve is:\n",
    "\n",
    "Minimize\n",
    "$$-\\sum_{i<j} x_{ij}\\Delta_{ij} + \\theta \\left( \\frac{1}{T-1} \\sum_{t=0}^{T-1} (\\Delta_i^t - \\bar{\\Delta}_{ij})^2 \\right)$$\n",
    "(1a)\n",
    "\n",
    "Subject to\n",
    "$$-1 \\leq x_{ij} \\leq 1,$$\n",
    "for all pairs $i < j$.\n",
    "(1b)\n",
    "\n",
    "Here, $\\theta \\geq 0$ is a risk-tolerance parameter. Your code should work for values of $\\theta$ ranging from very small to large, e.g., $0 \\leq \\theta \\leq 10^6$.\n",
    "\n",
    "1. Implement a first-order method, using projected gradients, for this problem. Yes, you can also attempt to handle it using a solver, but I want to see the first-order implementation.\n",
    "\n",
    "2. You should test it using the daily data that I have uploaded; Wilshire 5000 and Russell 1000. Using the first data set you should be able to get at least 3000 names with more than 1000 valid data values that are date-aligned.\n"
   ]
  },
  {
   "cell_type": "code",
   "execution_count": 3,
   "metadata": {},
   "outputs": [],
   "source": [
    "# reading in data\n",
    "data_folder = './data'\n",
    "index_name = 'closeRussell1000'\n",
    "\n",
    "# stuff that is used as input to the gradient descent function\n",
    "stuff = dict()\n",
    "file_endings = ['delta', 'delta_bar', 'delta_centered']\n",
    "for end in file_endings:\n",
    "    with open(f'./data/{index_name}_{end}.pkl', 'rb') as f:\n",
    "        stuff[end] = pickle.load(f)\n",
    "\n",
    "n, p = stuff['delta'].shape\n",
    "\n",
    "with open(f'./data/{index_name}_pair_names.pkl', 'rb') as f:\n",
    "    pair_names = pickle.load(f)"
   ]
  },
  {
   "cell_type": "code",
   "execution_count": 4,
   "metadata": {},
   "outputs": [],
   "source": [
    "def get_batches(data: np.ndarray, batch_size: int) -> np.ndarray:\n",
    "    '''Get random batch of size batch_size from data.'''\n",
    "    n = data.shape[0]\n",
    "    k = n // batch_size\n",
    "    # shuffle the indices\n",
    "    ind = list(range(n))\n",
    "    np.random.shuffle(ind)\n",
    "    # trimming the samples to a multiple of batch_size\n",
    "    ind = ind[:k*batch_size]\n",
    "    # yield a batch one by one\n",
    "    for i in range(0, k, batch_size):\n",
    "        yield data[ind[i: i+batch_size], :]"
   ]
  },
  {
   "cell_type": "code",
   "execution_count": 5,
   "metadata": {},
   "outputs": [],
   "source": [
    "def f(x: np.ndarray, theta: float, pi: float, **kwargs) -> np.ndarray:\n",
    "    '''Function which we intend to minimize. Vectorized.'''\n",
    "    t = kwargs['delta_centered'].shape[0]\n",
    "    return -np.dot(kwargs['delta_bar'], x) + theta/t * np.linalg.norm(kwargs['delta_centered'] @ x, pi)**pi\n",
    "\n",
    "def g(x: np.ndarray, theta: float, pi: float, **kwargs) -> np.ndarray:\n",
    "    '''Gradient of function f. Vectorized.'''\n",
    "    t = kwargs['delta_centered'].shape[0]\n",
    "    delta_centered_at_x = kwargs['delta_centered'] @ x\n",
    "    return -kwargs['delta_bar'] + (theta / t * pi) * ((delta_centered_at_x**(pi-1)).T @ kwargs['delta_centered'])\n",
    "\n",
    "def gradient_descent(x_0: np.ndarray, theta: float, pi: float, alpha: float, beta: float, \\\n",
    "                     num_iter: int, batch_size: int, tolerance: float, **kwargs) -> tuple:\n",
    "    '''Gradient descent function. Using gradient normalization, momentum, clipping, and batches. Vectorized.'''\n",
    "    converged = False\n",
    "    x = y = x_0\n",
    "    # evaluating function at initial value\n",
    "    # seeing if we can minimize this!\n",
    "    f_val = f(x=x_0, theta=theta, pi=pi, delta_bar=kwargs['delta_bar'], delta_centered=kwargs['delta_centered'])\n",
    "    hist = [f_val]\n",
    "    \n",
    "    for iter in tqdm(range(num_iter), leave=True, desc='Iterations'):\n",
    "        for batch in get_batches(data=kwargs['delta'], batch_size=batch_size):\n",
    "            # computing gradient\n",
    "            grad = g(x=x, theta=theta, pi=pi, delta_centered=kwargs['delta_centered'], delta_bar=kwargs['delta_bar'])\n",
    "            # norming gradient: why?\n",
    "            #   1) we are able to control the step-size purely with beta and \n",
    "            #       alpha without being influenced by varying magnitude of gradient\n",
    "            #   2) we are able to eliminate \"slow crawling\" gradient descent and\n",
    "            #       push out of flat regions of the surface faster\n",
    "            grad /= np.linalg.norm(grad)\n",
    "            # computing next step using momentum\n",
    "            y = beta*y + (1-beta)*grad\n",
    "            # clipping the gradient to enforce the problem's constraint\n",
    "            x = np.clip(x - alpha*y, -1, 1)\n",
    "            # evaluating new function value\n",
    "            f_new = f(x=x, theta=theta, pi=pi, delta_bar=kwargs['delta_bar'], delta_centered=kwargs['delta_centered'])\n",
    "            hist.append(f_new)\n",
    "            # checking convergence\n",
    "            if f_val - f_new < tolerance:\n",
    "                converged = True\n",
    "                break\n",
    "            # new function value is the old function value in the next iteration\n",
    "            f_val = f_new\n",
    "        \n",
    "    # returning tuple of\n",
    "    #   bool: did we converge?\n",
    "    #   np.ndarray: our portfolio positions at optimality\n",
    "    #   list: function value at each step of gradient descent\n",
    "    return converged, x, hist"
   ]
  },
  {
   "cell_type": "code",
   "execution_count": 9,
   "metadata": {},
   "outputs": [
    {
     "data": {
      "application/vnd.jupyter.widget-view+json": {
       "model_id": "16e67be4bd5c4b0982416f117f193811",
       "version_major": 2,
       "version_minor": 0
      },
      "text/plain": [
       "Iterations:   0%|          | 0/10 [00:00<?, ?it/s]"
      ]
     },
     "metadata": {},
     "output_type": "display_data"
    }
   ],
   "source": [
    "# initial feasible guess\n",
    "x_0 = np.random.uniform(-1, 1, p)\n",
    "# utility function parameters\n",
    "theta, pi = 10, 2\n",
    "\n",
    "converged, x, hist = gradient_descent(\n",
    "        x_0=x_0,\n",
    "        theta=theta, pi=pi, alpha=1e-3, beta=0.9,\n",
    "        num_iter=10, batch_size=32, tolerance=1e-6,\n",
    "        **stuff\n",
    "    )"
   ]
  },
  {
   "cell_type": "code",
   "execution_count": 15,
   "metadata": {},
   "outputs": [
    {
     "data": {
      "text/plain": [
       "[<matplotlib.lines.Line2D at 0x17b84d090>]"
      ]
     },
     "execution_count": 15,
     "metadata": {},
     "output_type": "execute_result"
    },
    {
     "data": {
      "image/png": "[encoded data removed]",
      "text/plain": [
       "<Figure size 640x480 with 1 Axes>"
      ]
     },
     "metadata": {},
     "output_type": "display_data"
    }
   ],
   "source": [
    "# plotting history, should be going down\n",
    "plt.plot(hist)"
   ]
  },
  {
   "cell_type": "code",
   "execution_count": 14,
   "metadata": {},
   "outputs": [
    {
     "data": {
      "text/html": [
       "<div>\n",
       "<style scoped>\n",
       "    .dataframe tbody tr th:only-of-type {\n",
       "        vertical-align: middle;\n",
       "    }\n",
       "\n",
       "    .dataframe tbody tr th {\n",
       "        vertical-align: top;\n",
       "    }\n",
       "\n",
       "    .dataframe thead th {\n",
       "        text-align: right;\n",
       "    }\n",
       "</style>\n",
       "<table border=\"1\" class=\"dataframe\">\n",
       "  <thead>\n",
       "    <tr style=\"text-align: right;\">\n",
       "      <th></th>\n",
       "      <th>pair_names</th>\n",
       "      <th>position</th>\n",
       "    </tr>\n",
       "  </thead>\n",
       "  <tbody>\n",
       "    <tr>\n",
       "      <th>0</th>\n",
       "      <td>AOS-A</td>\n",
       "      <td>-1.0</td>\n",
       "    </tr>\n",
       "    <tr>\n",
       "      <th>1</th>\n",
       "      <td>AAL-A</td>\n",
       "      <td>1.0</td>\n",
       "    </tr>\n",
       "    <tr>\n",
       "      <th>2</th>\n",
       "      <td>AAP-A</td>\n",
       "      <td>-1.0</td>\n",
       "    </tr>\n",
       "    <tr>\n",
       "      <th>3</th>\n",
       "      <td>AAPL-A</td>\n",
       "      <td>1.0</td>\n",
       "    </tr>\n",
       "    <tr>\n",
       "      <th>4</th>\n",
       "      <td>ABBV-A</td>\n",
       "      <td>1.0</td>\n",
       "    </tr>\n",
       "    <tr>\n",
       "      <th>...</th>\n",
       "      <td>...</td>\n",
       "      <td>...</td>\n",
       "    </tr>\n",
       "    <tr>\n",
       "      <th>459356</th>\n",
       "      <td>ZNGA-ZG</td>\n",
       "      <td>-1.0</td>\n",
       "    </tr>\n",
       "    <tr>\n",
       "      <th>459357</th>\n",
       "      <td>ZTS-ZG</td>\n",
       "      <td>1.0</td>\n",
       "    </tr>\n",
       "    <tr>\n",
       "      <th>459358</th>\n",
       "      <td>ZNGA-ZION</td>\n",
       "      <td>1.0</td>\n",
       "    </tr>\n",
       "    <tr>\n",
       "      <th>459359</th>\n",
       "      <td>ZTS-ZION</td>\n",
       "      <td>1.0</td>\n",
       "    </tr>\n",
       "    <tr>\n",
       "      <th>459360</th>\n",
       "      <td>ZTS-ZNGA</td>\n",
       "      <td>1.0</td>\n",
       "    </tr>\n",
       "  </tbody>\n",
       "</table>\n",
       "<p>459361 rows × 2 columns</p>\n",
       "</div>"
      ],
      "text/plain": [
       "       pair_names  position\n",
       "0           AOS-A      -1.0\n",
       "1           AAL-A       1.0\n",
       "2           AAP-A      -1.0\n",
       "3          AAPL-A       1.0\n",
       "4          ABBV-A       1.0\n",
       "...           ...       ...\n",
       "459356    ZNGA-ZG      -1.0\n",
       "459357     ZTS-ZG       1.0\n",
       "459358  ZNGA-ZION       1.0\n",
       "459359   ZTS-ZION       1.0\n",
       "459360   ZTS-ZNGA       1.0\n",
       "\n",
       "[459361 rows x 2 columns]"
      ]
     },
     "execution_count": 14,
     "metadata": {},
     "output_type": "execute_result"
    }
   ],
   "source": [
    "# looking at resulting positions\n",
    "pd.DataFrame({'pair_names': pair_names, 'position': x})"
   ]
  }
 ],
 "metadata": {
  "kernelspec": {
   "display_name": "myenv",
   "language": "python",
   "name": "python3"
  },
  "language_info": {
   "codemirror_mode": {
    "name": "ipython",
    "version": 3
   },
   "file_extension": ".py",
   "mimetype": "text/x-python",
   "name": "python",
   "nbconvert_exporter": "python",
   "pygments_lexer": "ipython3",
   "version": "3.10.11"
  }
 },
 "nbformat": 4,
 "nbformat_minor": 2
}
