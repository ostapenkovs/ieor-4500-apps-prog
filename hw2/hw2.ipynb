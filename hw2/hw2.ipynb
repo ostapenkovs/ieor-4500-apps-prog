{
 "cells": [
  {
   "cell_type": "markdown",
   "metadata": {},
   "source": [
    "# <span style='color:red'>Project 2.  Due October 23</span>"
   ]
  },
  {
   "cell_type": "code",
   "execution_count": 13,
   "metadata": {
    "scrolled": true
   },
   "outputs": [
    {
     "data": {
      "text/html": [
       "<style>.container { width: 90% !important; }</style>"
      ],
      "text/plain": [
       "<IPython.core.display.HTML object>"
      ]
     },
     "metadata": {},
     "output_type": "display_data"
    }
   ],
   "source": [
    "from IPython.core.display import display, HTML\n",
    "display(HTML(\"<style>.container { width: 90% !important; }</style>\"))"
   ]
  },
  {
   "cell_type": "markdown",
   "metadata": {},
   "source": [
    "### In this project we develop a first-order algorithm to construct a portfolio using intraday data."
   ]
  },
  {
   "cell_type": "code",
   "execution_count": 14,
   "metadata": {},
   "outputs": [],
   "source": [
    "import csv\n",
    "import sys\n",
    "import scipy.io\n",
    "import numpy as np\n",
    "import math\n",
    "import matplotlib.pyplot as plt"
   ]
  },
  {
   "cell_type": "markdown",
   "metadata": {},
   "source": [
    "##### We will have data involving $n$ assets, and use the first $T$ days of the data to compute the portfolio.\n",
    "##### The computation will produce a weight $x_i$ for each asset $i = 1,...,n$, which could be long or short.\n",
    "##### We assume that on each day, a position is taken at the open, and closed at noon.  So we define:\n",
    "$$ p^o_{j,t} = \\ \\text{price of asset $j$ on day $t$ at the open}$$\n",
    "$$ p^1_{j,t} = \\ \\text{price of asset $j$ on day $t$ at noon}$$\n",
    "$$ r_{j,t} =  \\ \\frac{p^1_{j,t} - p^o_{j,t}}{p^o_{j,t}} = \\ \\text{return earned by asset $j$ on day $t$.}$$\n",
    "$$ \\bar r_j = \\ \\frac{1}{T} \\sum_{t = 1}^T r_{j,t} = \\ \\text{average return earned by asset $j$.}$$"
   ]
  },
  {
   "cell_type": "markdown",
   "metadata": {},
   "source": [
    "#### The optimization problem to solve depends on two parameters: $\\theta \\ge 0$ and $\\pi > 0 0$.\n",
    "####\n",
    "$$ \\text{minimize} \\ \\left(-\\sum_{j = 1}^n \\bar r_j x_j\\right) \\ + \\ \\theta \\left( \\frac{1}{T} \\sum_{t = 1}^{T}\\left[\\sum_{j = 1}^n (r_{j,t} -  \\bar r_j)x_j\\right]^\\pi\\right)^{1/\\pi}$$\n",
    "#### \n",
    "#### There are no constraints on the quantities $x_j$.\n",
    "#### The first sum is minus the average return earned by the portfolio.  In the second sum, the quantity inside the square brackets is the excess return earned by the portfolio on day $t$, magnified by the power $\\pi$.  The quantity $\\theta$ is a risk aversion parameter.\n",
    " "
   ]
  },
  {
   "cell_type": "markdown",
   "metadata": {},
   "source": [
    "### <span style='color:red'> Task 1. Develop a first-order method to address this computational problem.</span>\n",
    "#### \n",
    "#### Your method should work with values of $T$ at least $100$. Use the data we provide for AMZN, NFLX, TSLA, i.e., $n = 3$. \n",
    "###\n",
    "#### Make sure your code works with $\\pi = 0.5, 2, 4, 6$, and $\\theta = 0.1, 10, 1000, 10^5, 10^6$."
   ]
  },
  {
   "cell_type": "code",
   "execution_count": null,
   "metadata": {},
   "outputs": [],
   "source": []
  },
  {
   "cell_type": "markdown",
   "metadata": {},
   "source": [
    "### <span style='color:red'>Task 2: Benchmark your portfolio on the remaining days</span>\n",
    "#### On each of the remaining days, we proceed as follows.  Denote by $x^*$ your portfolio. At the market open we invest $10^9 x^*_j$ on each asset $j$, and we close the position (by) noon.  You need to use the asset's price to compute the number of shares that you invest in, whether long or short. So the total you invest equals $$ \\sum_{j = 1}^n 10^9 |x^*_j|.$$\n",
    "#### Report the average return earned by your portfolio."
   ]
  },
  {
   "cell_type": "code",
   "execution_count": null,
   "metadata": {},
   "outputs": [],
   "source": []
  }
 ],
 "metadata": {
  "kernelspec": {
   "display_name": "Python 3 (ipykernel)",
   "language": "python",
   "name": "python3"
  },
  "language_info": {
   "codemirror_mode": {
    "name": "ipython",
    "version": 3
   },
   "file_extension": ".py",
   "mimetype": "text/x-python",
   "name": "python",
   "nbconvert_exporter": "python",
   "pygments_lexer": "ipython3",
   "version": "3.10.11"
  }
 },
 "nbformat": 4,
 "nbformat_minor": 4
}
