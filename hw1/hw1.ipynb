{
 "cells": [
  {
   "cell_type": "markdown",
   "metadata": {},
   "source": [
    "# <span style='color:red'>Project 1</span>"
   ]
  },
  {
   "cell_type": "markdown",
   "metadata": {},
   "source": [
    "#### In this project we use dynamic programming to create a trading schedule that maximizes total number of shares traded, under a model of liquidity impact with memory."
   ]
  },
  {
   "cell_type": "code",
   "execution_count": 3,
   "metadata": {},
   "outputs": [],
   "source": [
    "import os\n",
    "import pickle\n",
    "import numpy as np\n",
    "import pandas as pd\n",
    "from util import run_sim"
   ]
  },
  {
   "cell_type": "markdown",
   "metadata": {},
   "source": [
    "#### Suppose we have a total of N shares that we would like to trade over T time periods.  To do so, we produce a schedule\n",
    "$$ (n_0, n_1, \\ldots, n_{T-1}) \\quad \\text{where each} \\quad n_i \\ge 0$$\n",
    "#### Each $n_i$ represents the quantity that we will attempt  to trade at time $i = 0, 2, \\ldots, T-1$.  In reality the market will only allow us to trade a smaller quantity at each time period.  We impose the conditions:\n",
    "$$ \\sum_{i=0}^{T-2} n_i \\ \\le N \\quad \\text{and} \\quad n_{T-1} = N - \\text{quantity traded so far}$$\n",
    "#### This plays out as follows.  Assume that $\\alpha > 0$ (and very small) and $0 < \\pi < 1$ are given parameters.  Then we run the following process:\n",
    "#### 1. Initialize $M = 0$.  Then for $i = 0, 2, \\ldots, T-1$ we do the following:\n",
    "#### 2. Compute $M \\leftarrow \\lceil 0.1*M + 0.9*n_i\\rceil$.\n",
    "#### 3. At time $i \\le T-1$ we trade $S_i \\ = \\ \\lceil(1 - \\alpha M^\\pi)n_i \\rceil$ shares.  \n",
    "#### 4. Note that $n_{T-1} = N \\, - \\, \\sum_{i = 0}^{T-2} n_i$. \n",
    "\n",
    "#### <span style='color:red'>Example:</span>  N = 10000, T = 4,   $\\alpha = 0.001$,   $\\pi = 0.5$"
   ]
  },
  {
   "cell_type": "markdown",
   "metadata": {},
   "source": [
    "### <span style='color:red'>Task 1: </span>code a dynamic programming algorithm that computes an optimal schedule of trades $(n_0, n_1, \\ldots, n_{T-1})$ with the goal of maximizing the total number of traded shares\n",
    "#### Make sure that your code runs well for a range of values of $\\alpha$ and $\\pi$\n",
    "#### Compute the optimal schedule when $\\alpha = 0.001$, $\\pi = 0.5$, $N = 100000$ and $T = 10$.   Denote this schedule by $(S_0, S_1, \\ldots, S_9)$."
   ]
  },
  {
   "cell_type": "code",
   "execution_count": 4,
   "metadata": {},
   "outputs": [
    {
     "data": {
      "application/vnd.jupyter.widget-view+json": {
       "model_id": "1add0e05b03f4daead76001662926042",
       "version_major": 2,
       "version_minor": 0
      },
      "text/plain": [
       "  0%|          | 0/5 [00:00<?, ?it/s]"
      ]
     },
     "metadata": {},
     "output_type": "display_data"
    }
   ],
   "source": [
    "already_ran = False\n",
    "z, alpha, target_pi = 0.1, 1e-3, 0.5\n",
    "\n",
    "if not already_ran:\n",
    "    schedules = run_sim(z=z, alpha=alpha, T=10, N=1e5, several_pi=[0.3, 0.4, 0.5, 0.6, 0.7], notebook=True, F=3) # approximate sched.\n",
    "\n",
    "    data_dir = './data'\n",
    "    if not os.path.exists(data_dir): os.makedirs(data_dir)\n",
    "    with open(f'{ data_dir }/schedules.pkl', 'wb') as f:\n",
    "        pickle.dump(schedules, f)\n",
    "\n",
    "else:\n",
    "    with open('./data/schedules.pkl', 'rb') as f:\n",
    "        schedules = pickle.load(f)"
   ]
  },
  {
   "cell_type": "code",
   "execution_count": 5,
   "metadata": {},
   "outputs": [
    {
     "name": "stdout",
     "output_type": "stream",
     "text": [
      "SCHEDULE FOR PI: 0.5 => [6000, 16000, 9000, 9000, 9000, 9000, 9000, 9000, 9000, 15000] => SUMS TO 100000\n",
      "ABLE TO SELL 89802 WITH OUR SCHEDULE\n"
     ]
    }
   ],
   "source": [
    "print(f'SCHEDULE FOR PI: { target_pi } => { str(schedules[target_pi]) } => SUMS TO { np.sum(schedules[target_pi]) }')\n",
    "\n",
    "S = np.zeros(len(schedules[target_pi]), dtype='i')\n",
    "M = total = 0\n",
    "for t, nt in enumerate( schedules[target_pi] ):\n",
    "    M = np.ceil(z*M + (1-z)*nt)\n",
    "    S[t] = np.ceil((1 - alpha*M**target_pi)*nt)\n",
    "    total += S[t]\n",
    "\n",
    "print(f'ABLE TO SELL { total } WITH OUR SCHEDULE')"
   ]
  },
  {
   "cell_type": "markdown",
   "metadata": {},
   "source": [
    "### <span style='color:red'>Task 2. Test the effectiveness of this computed schedule using the first 2 hours of each day in the TSLA data </span>\n",
    "To do so, we divide the first 2 hours of each day into 12 separate intervals of ten minutes each.\n",
    "Each interval is evaluated as follows.  Suppose that the traded volume in that interval is given by the numbers $(V_0, V_1, \\ldots, V_9)$. \n",
    "Then the interval score we assign to our schedule is given by\n",
    "$$ \\sum_{i = 0}^9 \\min\\{ S_i, V_i/100 \\}.$$\n",
    "Effectively, this scheme allows us to trade up to a volume of 1% of what the market actually traded."
   ]
  },
  {
   "cell_type": "markdown",
   "metadata": {},
   "source": [
    "#### The TOTAL SCORE we assign to our schedule is the average of the all interval scores, averaged over the first 12 intervals of all the days in the first half of our data\n",
    "#### In other words, if we have 300 days of data, we take the first 150, and we get in total 12x150 = 1800 intervals"
   ]
  },
  {
   "cell_type": "code",
   "execution_count": 6,
   "metadata": {},
   "outputs": [],
   "source": [
    "df = pd.read_csv('./data/TSLA_first_two_hours_HW1.csv')\n",
    "\n",
    "df['Dates'] = pd.to_datetime(df['Dates'])\n",
    "\n",
    "df = df.set_index('Dates').sort_index()"
   ]
  },
  {
   "cell_type": "code",
   "execution_count": 7,
   "metadata": {},
   "outputs": [
    {
     "name": "stdout",
     "output_type": "stream",
     "text": [
      "SCORE FOR PI: 0.5 => 7806.08\n"
     ]
    }
   ],
   "source": [
    "x = df.index.min()\n",
    "ub = df.index.max()\n",
    "\n",
    "day = pd.DateOffset(days=1)\n",
    "\n",
    "res = list()\n",
    "while x < ub:\n",
    "    mask = (df.index >= x) & (df.index < x + day)\n",
    "    slice = df[mask].iloc[1:]\n",
    "    \n",
    "    if len(slice) == 120:\n",
    "        count = sum = 0\n",
    "        for i in range(len(slice)):\n",
    "            sum += min(schedules[target_pi][count], slice.iloc[i]['Volume']) # no divide by 100\n",
    "\n",
    "            count += 1\n",
    "            if count == 10:\n",
    "                res.append(sum)\n",
    "                sum = count = 0\n",
    "\n",
    "    mask = slice = None\n",
    "    x += day\n",
    "\n",
    "print(f'SCORE FOR PI: { target_pi } => { round(np.mean(res), 2) }')"
   ]
  },
  {
   "cell_type": "markdown",
   "metadata": {},
   "source": [
    "### <span style='color:red'>Task 3:</span>  code an algorithm that (approximately) does the following:\n",
    "#### 1. It approximately enumerates all possible values for $\\pi$ between $0.3$ and $0.7$\n",
    "#### 2. It approximately computes the value of $\\pi$ that maximizes the TOTAL SCORE, when $N = 100000$, $T = 10$ and $\\alpha = 0.001$.\n",
    "#### 3. This means that we run the DP algorithm (under the chosen value of $\\pi$) and then evaluate as above to compute the TOTAL SCORE."
   ]
  },
  {
   "cell_type": "code",
   "execution_count": 8,
   "metadata": {},
   "outputs": [],
   "source": [
    "ub = df.index.max()\n",
    "\n",
    "day = pd.DateOffset(days=1)\n",
    "\n",
    "all_res = dict()\n",
    "for pi, schedule in schedules.items():\n",
    "    x = df.index.min()\n",
    "\n",
    "    res = list()\n",
    "    while x < ub:\n",
    "        mask = (df.index >= x) & (df.index < x + day)\n",
    "        slice = df[mask].iloc[1:]\n",
    "        \n",
    "        if len(slice) == 120:\n",
    "            count = sum = 0\n",
    "            for i in range(len(slice)):\n",
    "                sum += min(schedules[pi][count], slice.iloc[i]['Volume']) # no divide by 100\n",
    "\n",
    "                count += 1\n",
    "                if count == 10:\n",
    "                    res.append(sum)\n",
    "                    sum = count = 0\n",
    "\n",
    "        mask = slice = None\n",
    "        x += day\n",
    "\n",
    "    all_res[pi] = np.mean(res)\n",
    "    res = None"
   ]
  },
  {
   "cell_type": "code",
   "execution_count": 9,
   "metadata": {},
   "outputs": [
    {
     "name": "stdout",
     "output_type": "stream",
     "text": [
      "ALL PIs SORTED BY DESCENDING SCORE:\n",
      "SCORE FOR PI: 0.5 => 7806.08\n",
      "SCORE FOR PI: 0.7 => 7805.99\n",
      "SCORE FOR PI: 0.6 => 7803.61\n",
      "SCORE FOR PI: 0.4 => 4581.68\n",
      "SCORE FOR PI: 0.3 => 2244.18\n"
     ]
    }
   ],
   "source": [
    "print('ALL PIs SORTED BY DESCENDING SCORE:')\n",
    "for pi, score in sorted(all_res.items(), key=lambda x: -x[1]):\n",
    "    print(f'SCORE FOR PI: { pi } => { round(score, 2) }')"
   ]
  }
 ],
 "metadata": {
  "kernelspec": {
   "display_name": "Python 3",
   "language": "python",
   "name": "python3"
  },
  "language_info": {
   "codemirror_mode": {
    "name": "ipython",
    "version": 3
   },
   "file_extension": ".py",
   "mimetype": "text/x-python",
   "name": "python",
   "nbconvert_exporter": "python",
   "pygments_lexer": "ipython3",
   "version": "3.10.11"
  }
 },
 "nbformat": 4,
 "nbformat_minor": 2
}
